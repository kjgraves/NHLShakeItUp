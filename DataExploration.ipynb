{
 "cells": [
  {
   "cell_type": "markdown",
   "metadata": {},
   "source": [
    "# Data Exploration\n",
    "Before I get to attempting to model when to \"shake it up.\" I need to look at, and better understand my data.\n",
    "\n",
    "Let's dive in!"
   ]
  },
  {
   "cell_type": "code",
   "execution_count": 140,
   "metadata": {},
   "outputs": [],
   "source": [
    "import pandas as pd\n",
    "import numpy as np\n",
    "import matplotlib.pyplot as plt\n",
    "import datetime"
   ]
  },
  {
   "cell_type": "code",
   "execution_count": 141,
   "metadata": {},
   "outputs": [],
   "source": [
    "df = pd.read_pickle(\"data/InitialFeatures.pkl\")"
   ]
  },
  {
   "cell_type": "markdown",
   "metadata": {},
   "source": [
    "## Number of Times Lines Were \"Shaked Up\"\n",
    "First, I want to know how many times does the top lines change from one game to the next."
   ]
  },
  {
   "cell_type": "code",
   "execution_count": 125,
   "metadata": {},
   "outputs": [
    {
     "data": {
      "text/plain": [
       "796"
      ]
     },
     "execution_count": 125,
     "metadata": {},
     "output_type": "execute_result"
    }
   ],
   "source": [
    "len(df.loc[df[\"Away L1 Shuffled\"] == True]) + len(df.loc[df[\"Home L1 Shuffled\"] == True])"
   ]
  },
  {
   "cell_type": "markdown",
   "metadata": {},
   "source": [
    "But we don't want to include injuries, so let's do:"
   ]
  },
  {
   "cell_type": "code",
   "execution_count": 126,
   "metadata": {},
   "outputs": [
    {
     "name": "stdout",
     "output_type": "stream",
     "text": [
      "646\n",
      "2460\n",
      "The top line is changed on average 26.26% of the time\n"
     ]
    }
   ],
   "source": [
    "NSwitches = len(df.loc[(df[\"Home L1 Shuffled\"] == True) & (df[\"Home L1 Injury\"] == False)]) + \\\n",
    "                len(df.loc[(df[\"Away L1 Shuffled\"] == True) & (df[\"Away L1 Injury\"] == False)])\n",
    "print(NSwitches)\n",
    "Nopps = len(df)*2\n",
    "print(Nopps)\n",
    "print(\"The top line is changed on average {0:5.2f}% of the time\".format(NSwitches/Nopps*100))"
   ]
  },
  {
   "cell_type": "markdown",
   "metadata": {},
   "source": [
    "The top line is actually changed more than I expected. That's interesting."
   ]
  },
  {
   "cell_type": "markdown",
   "metadata": {},
   "source": [
    "## Does the rate of change depend on win percentage?"
   ]
  },
  {
   "cell_type": "markdown",
   "metadata": {},
   "source": [
    "Let's add another row to the dataframe to hold win percentage."
   ]
  },
  {
   "cell_type": "code",
   "execution_count": 143,
   "metadata": {},
   "outputs": [],
   "source": [
    "\n",
    "win_bin_edges = np.linspace(0.,1.,num=11)\n",
    "def calc_WLp(wins,losses):\n",
    "    if wins + losses == 0:\n",
    "        retval = 0\n",
    "    else:\n",
    "        retval = wins/(wins + losses)\n",
    "    return retval\n",
    "df['Away W frac'] = df.apply(lambda row: calc_WLp(row['Away Wins'],row['Away Losses']), axis=1)\n",
    "df['Home W frac'] = df.apply(lambda row: calc_WLp(row['Home Wins'],row['Home Losses']), axis=1)\n"
   ]
  },
  {
   "cell_type": "markdown",
   "metadata": {},
   "source": [
    "Now, for each win percentage bin let's calculate: \n",
    "\n",
    "2) number of games that teams changed their top line\n",
    "\n",
    "1) number of games that teams did not changed their top line"
   ]
  },
  {
   "cell_type": "code",
   "execution_count": 129,
   "metadata": {},
   "outputs": [],
   "source": [
    "N_chg  = np.zeros(len(win_bin_edges)-1)\n",
    "N_stay = np.zeros(len(win_bin_edges)-1)\n",
    "for i in range(len(df)):\n",
    "    for loc in (\"Away\",\"Home\"):\n",
    "        for j in range(1,len(win_bin_edges)):\n",
    "            if win_bin_edges[j] > df['{0} W frac'.format(loc)].iloc[i]:\n",
    "                if (df['{0} L1 Shuffled'.format(loc)].iloc[i] and \n",
    "                    not df['{0} L1 Injury'.format(loc)].iloc[i]):\n",
    "                    N_chg[j-1] += 1\n",
    "                else:\n",
    "                    N_stay[j-1] += 1\n",
    "                break\n",
    "                    "
   ]
  },
  {
   "cell_type": "markdown",
   "metadata": {},
   "source": [
    "Below are a few functions that I actually wrote/borrowed for my research a few years ago - so sorry about the lack of comments. These functions will calculate the 95% error bars for a \"fractional\" bar graph."
   ]
  },
  {
   "cell_type": "code",
   "execution_count": 132,
   "metadata": {},
   "outputs": [],
   "source": [
    "def choose(n, k):\n",
    "    \"\"\"\n",
    "    A fast way to calculate binomial coefficients by Andrew Dalke.\n",
    "    \"\"\"\n",
    "    if 0 <= k <= n:\n",
    "        ntok = 1\n",
    "        ktok = 1\n",
    "        for t in range(1, min(k, n - k) + 1):\n",
    "            ntok *= n\n",
    "            ktok *= t\n",
    "            n -= 1\n",
    "        return ntok // ktok\n",
    "    else:\n",
    "        return 0\n",
    "def binomial_uncert(n1,n2,bins):\n",
    "   # Uncertainties\n",
    "    F = [0]*len(n1)\n",
    "    xc = [0]*len(n1)\n",
    "    n = [0]*len(n1)\n",
    "    for i in range(len(n1)):\n",
    "        if n1[i] + n2[i] == 0:\n",
    "            F[i] = 0\n",
    "        else: \n",
    "            F[i] = float(n2[i])/(float(n1[i])+float(n2[i]))\n",
    "        xc[i] = (bins[i]+bins[i+1])/2.\n",
    "        n[i] = n1[i]+n2[i]\n",
    "    upper = [0]*len(n1)\n",
    "    lower = [0]*len(n1)\n",
    "\n",
    "    for i in range(len(F)):\n",
    "        # upper uncertainty\n",
    "        Pr = 1\n",
    "        ming = F[i]\n",
    "        maxg = 1.\n",
    "        while abs(Pr-0.025) > 0.0001:\n",
    "            p = (maxg+ming)/2. \n",
    "            Pr = float(choose(int(n[i]), int(n2[i])))*p**n2[i]*(1.-p)**(n[i]-n2[i])\n",
    "            if Pr > 0.025:\n",
    "                ming = p\n",
    "            else:\n",
    "                maxg = p\n",
    "            if Pr == 1.:\n",
    "                break\n",
    "        upper[i] = p-F[i]\n",
    "        # lower uncertainty\n",
    "        Pr = 1\n",
    "        ming = 0\n",
    "        maxg = F[i]\n",
    "        while abs(Pr-0.025) > 0.0001:\n",
    "            p = (maxg+ming)/2.\n",
    "            Pr = float(choose(int(n[i]), int(n2[i])))*p**n2[i]*(1.-p)**(n[i]-n2[i])\n",
    "            if Pr < 0.025:\n",
    "                ming = p\n",
    "            else:\n",
    "                maxg = p\n",
    "            if Pr == 1.:\n",
    "                break\n",
    "        lower[i] = F[i]-p\n",
    "    return xc,upper,lower"
   ]
  },
  {
   "cell_type": "code",
   "execution_count": 133,
   "metadata": {},
   "outputs": [],
   "source": [
    "# Let's find those errors\n",
    "xc,upper,lower = binomial_uncert(N_stay,N_chg,win_bin_edges)\n"
   ]
  },
  {
   "cell_type": "code",
   "execution_count": 146,
   "metadata": {},
   "outputs": [
    {
     "data": {
      "image/png": "[encoded data removed]",
      "text/plain": [
       "<matplotlib.figure.Figure at 0x7fbee5bcd160>"
      ]
     },
     "metadata": {},
     "output_type": "display_data"
    },
    {
     "data": {
      "text/plain": [
       "<matplotlib.figure.Figure at 0x7fbee5cfb160>"
      ]
     },
     "metadata": {},
     "output_type": "display_data"
    }
   ],
   "source": [
    "fig = plt.figure(figsize=(12,8))\n",
    "ax = fig.add_subplot(1,1,1)\n",
    "ax.bar(win_bin_edges[:-1]*100,N_chg/(N_chg+N_stay),align='edge',width=10)\n",
    "ax.errorbar(np.array(xc)*100,N_chg/(N_chg+N_stay),yerr=[lower,upper],fmt='.',ecolor='k')\n",
    "ax.set_xlim(0,100)\n",
    "ax.set_ylim(0.,.6)\n",
    "ax.set_xlabel(\"Team Win Percentage\")\n",
    "ax.set_ylabel(\"Rate of Line 1 changes (1 = changed every game)\")\n",
    "ax.set_title(\"How often do teams change their top line? (plotted vs. win %)\")\n",
    "plt.savefig(\"Win_perc_rate.png\")\n",
    "plt.show()\n",
    "plt.clf()"
   ]
  },
  {
   "cell_type": "markdown",
   "metadata": {},
   "source": [
    "(In a rough sense) teams that are not winning as much change their top line more often. It seems very reasonable that a top line that is not scoring (or defending well) would be changed more often."
   ]
  },
  {
   "cell_type": "markdown",
   "metadata": {},
   "source": [
    "## Do teams typically do better after \"shaking it up?\"\n",
    "Here I am going to look at the win % after a team has changed their top line compared to their win % when they don't change their top line. Does it make a difference in general? Do certain teams do it better than others?"
   ]
  },
  {
   "cell_type": "code",
   "execution_count": 147,
   "metadata": {},
   "outputs": [],
   "source": [
    "teams = df[\"Home Team\"].unique()"
   ]
  },
  {
   "cell_type": "code",
   "execution_count": 99,
   "metadata": {},
   "outputs": [],
   "source": [
    "dic_chg_v_ng = {}\n",
    "dic_chg = {}\n",
    "dic_nchg = {} \n",
    "i = 0\n",
    "for team in teams:\n",
    "    N_shuf_win = len(df.loc[((df['Away Team'] == team) & (df['Away L1 Shuffled'] == True) & (df['Away L1 Injury'] == False) \n",
    "                     & (df['Away Score'] > df['Home Score'])) | \n",
    "           ((df['Home Team'] == team) & (df['Home L1 Shuffled'] == True) & (df['Home L1 Injury'] == False)\n",
    "                     & (df['Home Score'] > df['Away Score']))])\n",
    "\n",
    "    N_shuf_loss = len(df.loc[((df['Away Team'] == team) & (df['Away L1 Shuffled'] == True) & (df['Away L1 Injury'] == False) \n",
    "                     & (df['Away Score'] < df['Home Score'])) | \n",
    "           ((df['Home Team'] == team) & (df['Home L1 Shuffled'] == True) & (df['Home L1 Injury'] == False)\n",
    "                     & (df['Home Score'] < df['Away Score']))])\n",
    "\n",
    "    N_noshuf_win = len(df.loc[((df['Away Team'] == team) & (df['Away L1 Shuffled'] == False)\n",
    "                     & (df['Away Score'] > df['Home Score'])) | \n",
    "           ((df['Home Team'] == team) & (df['Home L1 Shuffled'] == False)\n",
    "                     & (df['Home Score'] > df['Away Score']))])\n",
    "\n",
    "    N_noshuf_loss = len(df.loc[((df['Away Team'] == team) & (df['Away L1 Shuffled'] == False) \n",
    "                     & (df['Away Score'] < df['Home Score'])) | \n",
    "           ((df['Home Team'] == team) & (df['Home L1 Shuffled'] == False) \n",
    "                     & (df['Home Score'] < df['Away Score']))])\n",
    "\n",
    "    # For sanity purposes I calculate the number of times line 1 is shuffled due to injury also ...\n",
    "    N_shuf_inj = len(\n",
    "           df.loc[((df['Away Team'] == team) & (df['Away L1 Shuffled'] == True) & (df['Away L1 Injury'] == True)) | \n",
    "           ((df['Home Team'] == team) & (df['Home L1 Shuffled'] == True) & (df['Home L1 Injury'] == True))])\n",
    "    # ... so I can make sure every team plays 82 games\n",
    "    assert  N_shuf_win+N_shuf_loss+N_noshuf_win+N_noshuf_loss+N_shuf_inj == 82\n",
    "\n",
    "    dic_chg[team+\" win\"] = N_shuf_win\n",
    "    dic_chg[team+\" loss\"] = N_shuf_loss\n",
    "    dic_nchg[team+\" win\"] = N_noshuf_win\n",
    "    dic_nchg[team+\" loss\"] = N_noshuf_loss\n",
    "    dic_chg_v_ng[team] = N_shuf_win/(N_shuf_win+N_shuf_loss) - N_noshuf_win/(N_noshuf_win+N_noshuf_loss)\n",
    "    i += 1"
   ]
  },
  {
   "cell_type": "markdown",
   "metadata": {},
   "source": [
    "Let's order this by the teams' season win percentage"
   ]
  },
  {
   "cell_type": "code",
   "execution_count": 100,
   "metadata": {},
   "outputs": [],
   "source": [
    "dict_team_wp = {}\n",
    "for team in teams:\n",
    "    end_row = df.loc[((df['Away Team'] == team) | (df['Home Team'] == team))].iloc[-1]\n",
    "    if end_row['Away Team'] == team:\n",
    "        dict_team_wp[team] = end_row['Away W frac']\n",
    "    else: \n",
    "        dict_team_wp[team] = end_row['Home W frac']\n",
    "\n",
    "sorted_teams = sorted(dict_team_wp, key=dict_team_wp.get)\n",
    "\n",
    "\n"
   ]
  },
  {
   "cell_type": "code",
   "execution_count": 150,
   "metadata": {
    "scrolled": true
   },
   "outputs": [
    {
     "data": {
      "image/png": "[encoded data removed]",
      "text/plain": [
       "<matplotlib.figure.Figure at 0x7fbee5bfa128>"
      ]
     },
     "metadata": {},
     "output_type": "display_data"
    }
   ],
   "source": [
    "# Build an array (because it's ordered) to use in the bar plot\n",
    "ar_chg_v_ng = np.empty(len(sorted_teams),dtype=\"U3,f\")\n",
    "ar_chg = np.zeros((len(sorted_teams),2))\n",
    "ar_nchg = np.zeros((len(sorted_teams),2))\n",
    "for i in range(len(sorted_teams)):\n",
    "    ar_chg_v_ng[i][0] = sorted_teams[i]\n",
    "    ar_chg_v_ng[i][1] = dic_chg_v_ng[sorted_teams[i]]\n",
    "    ar_chg[i,0]  = dic_chg[sorted_teams[i]+\" win\"] \n",
    "    ar_chg[i,1]  = dic_chg[sorted_teams[i]+\" loss\"] \n",
    "    ar_nchg[i,0] = dic_nchg[sorted_teams[i]+\" win\"] \n",
    "    ar_nchg[i,1] = dic_nchg[sorted_teams[i]+\" loss\"] \n",
    "\n",
    "# Find Error bars\n",
    "xc_chg,upper_chg,lower_chg = binomial_uncert(ar_chg[:,1],ar_chg[:,0],range(len(ar_chg_v_ng)+1))\n",
    "xc_nchg,upper_nchg,lower_nchg = binomial_uncert(ar_nchg[:,1],ar_nchg[:,0],range(len(ar_chg_v_ng)+1))\n",
    "\n",
    "assert xc_chg == xc_nchg\n",
    "\n",
    "# Add the uncertainties together\n",
    "upper = np.array(upper_chg) + np.array(upper_nchg)\n",
    "lower = np.array(lower_chg) + np.array(lower_nchg)\n",
    "\n",
    "fig = plt.figure(figsize=(25,10))\n",
    "ax = fig.add_subplot(1,1,1)\n",
    "ax.fill_between((-0.5,29.5),(np.mean(ar_chg_v_ng['f1'])-np.std(ar_chg_v_ng['f1']),\n",
    "                             np.mean(ar_chg_v_ng['f1'])-np.std(ar_chg_v_ng['f1'])),\n",
    "                            (np.mean(ar_chg_v_ng['f1'])+np.std(ar_chg_v_ng['f1']),\n",
    "                             np.mean(ar_chg_v_ng['f1'])+np.std(ar_chg_v_ng['f1'])),facecolor='k',alpha=.4)\n",
    "ax.plot((-0.5,29.5),(np.mean(ar_chg_v_ng['f1']),np.mean(ar_chg_v_ng['f1'])),'k--',linewidth=1)\n",
    "ax.text(8.8,.05,\"Average over\\n  all teams\")\n",
    "ax.text(.5,.18,\"Standard deviation\\n      of average\")\n",
    "ax.bar(range(len(ar_chg_v_ng)), ar_chg_v_ng['f1'], width=1, align='center')\n",
    "\n",
    "ax.errorbar(range(len(ar_chg_v_ng)),ar_chg_v_ng['f1'],yerr=[lower,upper],fmt='.',ecolor='k')\n",
    "xtics = plt.xticks(range(len(ar_chg_v_ng)), list(ar_chg_v_ng['f0']))\n",
    "ax.set_xlim(-0.5,29.5)\n",
    "ax.set_ylim(-.3,.3)\n",
    "plt.title(\"Difference between the win % after top line is changed and the win % when there is no change (for each team)\")\n",
    "ax.set_xlabel(\"Team Abbreviation\")\n",
    "ax.set_ylabel(\"Win % Diff (Line-up change vs no change)\")\n",
    "plt.savefig(\"Win_per_diff.png\")\n"
   ]
  },
  {
   "cell_type": "markdown",
   "metadata": {},
   "source": [
    "## Previous Exploration\n",
    "This is previous data exploration that I have kept here because I might use some of this code in the future. Proceed a your own risk!"
   ]
  },
  {
   "cell_type": "markdown",
   "metadata": {},
   "source": [
    "\n",
    "## Number of Times Lines Were \"Shaked UP\"\n",
    "First, I want to know how many times does one of the top two lines change from one game to the next."
   ]
  },
  {
   "cell_type": "code",
   "execution_count": 3,
   "metadata": {},
   "outputs": [
    {
     "data": {
      "text/plain": [
       "1202"
      ]
     },
     "execution_count": 3,
     "metadata": {},
     "output_type": "execute_result"
    }
   ],
   "source": [
    "len(df.loc[df[\"Away L12 Shuffled\"] == True]) + len(df.loc[df[\"Home L12 Shuffled\"] == True])"
   ]
  },
  {
   "cell_type": "markdown",
   "metadata": {},
   "source": [
    "But we don't want to include injuries, so let's do:"
   ]
  },
  {
   "cell_type": "code",
   "execution_count": 4,
   "metadata": {},
   "outputs": [
    {
     "name": "stdout",
     "output_type": "stream",
     "text": [
      "852\n",
      "2460\n",
      "The top 2 lines are changed on average 34.63% of the time\n"
     ]
    }
   ],
   "source": [
    "NSwitches = len(df.loc[(df[\"Home L12 Shuffled\"] == True) & (df[\"Home L12 Injury\"] == False)]) + \\\n",
    "                len(df.loc[(df[\"Away L12 Shuffled\"] == True) & (df[\"Away L12 Injury\"] == False)])\n",
    "print(NSwitches)\n",
    "Nopps = len(df)*2\n",
    "print(Nopps)\n",
    "print(\"The top 2 lines are changed on average {0:5.2f}% of the time\".format(NSwitches/Nopps*100))"
   ]
  },
  {
   "cell_type": "markdown",
   "metadata": {},
   "source": [
    "## When in the Season Do Teams \"Shake It Up?\"?"
   ]
  },
  {
   "cell_type": "code",
   "execution_count": 5,
   "metadata": {},
   "outputs": [],
   "source": [
    "df['Date'].iat[0][5:7]\n",
    "shdates = df.loc[(df[\"Home L12 Shuffled\"] == True) & (df[\"Home L12 Injury\"] == False)]['Date']\n",
    "sadates = df.loc[(df[\"Away L12 Shuffled\"] == True) & (df[\"Away L12 Injury\"] == False)]['Date']\n",
    "sdates = pd.concat([shdates,sadates])\n",
    "alldates = pd.concat([df['Date'],df['Date']])\n",
    "dtm = lambda x: int(x[5:7])\n",
    "smonths = list(map(dtm, sdates))\n",
    "amonths = list(map(dtm, alldates))\n",
    "bins = np.arange(1,14)\n",
    "ns, b_edges = np.histogram(smonths, bins=bins)\n",
    "na, b_edges = np.histogram(amonths, bins=bins)\n",
    "frac = [0]*len(na)\n",
    "for i in range(len(na)):\n",
    "    if na[i] != 0:\n",
    "        frac[i] = ns[i]/na[i]\n",
    "xticklabels = [datetime.date(1900,i,1).strftime('%b') for i in bins[9:-1]] + [datetime.date(1900,i,1).strftime('%b') for i in bins[:4]]\n",
    "fracplt = frac[-3:] + frac[:4]"
   ]
  },
  {
   "cell_type": "code",
   "execution_count": 6,
   "metadata": {},
   "outputs": [
    {
     "data": {
      "image/png": "[encoded data removed]",
      "text/plain": [
       "<matplotlib.figure.Figure at 0x7f0e7cb62860>"
      ]
     },
     "metadata": {},
     "output_type": "display_data"
    }
   ],
   "source": [
    "## Plot it\n",
    "fig = plt.figure(figsize=(9,6))\n",
    "ax = fig.add_subplot(1,1,1)\n",
    "ax.bar(range(1,8),fracplt, align='center',width=1)\n",
    "ax.set_xticks(range(1,8))\n",
    "ax.set_xticklabels(xticklabels)\n",
    "ax.set_ylabel(\"Fraction of times teams 'Shook It Up\")\n",
    "ax.set_xlabel(\"2016-2017 Season\")\n",
    "plt.show()\n"
   ]
  },
  {
   "cell_type": "markdown",
   "metadata": {},
   "source": [
    "Seams to be fairly consistent throughout the season for the NHL on a whole. What about one team?\n"
   ]
  },
  {
   "cell_type": "code",
   "execution_count": 7,
   "metadata": {},
   "outputs": [
    {
     "name": "stdout",
     "output_type": "stream",
     "text": [
      "[[<matplotlib.axes._subplots.AxesSubplot object at 0x7f0e7a798438>\n",
      "  <matplotlib.axes._subplots.AxesSubplot object at 0x7f0e7a75ab70>]\n",
      " [<matplotlib.axes._subplots.AxesSubplot object at 0x7f0e7a78bfd0>\n",
      "  <matplotlib.axes._subplots.AxesSubplot object at 0x7f0e7a6e2588>]]\n",
      "0\n",
      "Axes(0.125,0.547727;0.352273x0.352273)\n",
      "[0.3333333333333333, 0.35714285714285715, 0.5, 0.46153846153846156, 0.5833333333333334, 0.26666666666666666, 0.2]\n",
      "1\n",
      "Axes(0.547727,0.547727;0.352273x0.352273)\n",
      "[0.1111111111111111, 0.3333333333333333, 0.14285714285714285, 0.38461538461538464, 0.5, 0.13333333333333333, 0.3333333333333333]\n",
      "2\n",
      "Axes(0.125,0.125;0.352273x0.352273)\n",
      "[0.5, 0.6, 0.46153846153846156, 0.4166666666666667, 0.3076923076923077, 0.4, 0.0]\n",
      "3\n",
      "Axes(0.547727,0.125;0.352273x0.352273)\n",
      "[0.5555555555555556, 0.2857142857142857, 0.26666666666666666, 0.18181818181818182, 0.5, 0.4375, 0.0]\n"
     ]
    },
    {
     "data": {
      "image/png": "[encoded data removed]",
      "text/plain": [
       "<matplotlib.figure.Figure at 0x7f0e7a7a0be0>"
      ]
     },
     "metadata": {},
     "output_type": "display_data"
    }
   ],
   "source": [
    "teams = (\"STL\",\"TBL\",\"OTT\",\"PIT\")\n",
    "fig, axs = plt.subplots(2,2,figsize=(15,12))\n",
    "print(axs)\n",
    "for j in range(len(teams)):\n",
    "    print(j)\n",
    "    ax = axs[j//2][j%2]\n",
    "    print(ax)\n",
    "    shdates = df.loc[(df[\"Home Team\"] == teams[j]) & (df[\"Home L12 Shuffled\"] == True) & (df[\"Home L12 Injury\"] == False)]['Date']\n",
    "    sadates = df.loc[(df[\"Away Team\"] == teams[j]) & (df[\"Away L12 Shuffled\"] == True) & (df[\"Away L12 Injury\"] == False)]['Date']\n",
    "    sdates = pd.concat([shdates,sadates])\n",
    "    alldates = pd.concat((df.loc[(df[\"Away Team\"] == teams[j])]['Date'],df.loc[(df[\"Home Team\"] == teams[j])]['Date']))\n",
    "    dtm = lambda x: int(x[5:7])\n",
    "    smonths = list(map(dtm, sdates))\n",
    "    amonths = list(map(dtm, alldates))\n",
    "    bins = np.arange(1,14)\n",
    "    ns, b_edges = np.histogram(smonths, bins=bins)\n",
    "    na, b_edges = np.histogram(amonths, bins=bins)\n",
    "    frac = [0]*len(na)\n",
    "    for i in range(len(na)):\n",
    "        if na[i] != 0:\n",
    "            frac[i] = ns[i]/na[i]\n",
    "    xticklabels = [datetime.date(1900,i,1).strftime('%b') for i in bins[9:-1]] + [datetime.date(1900,i,1).strftime('%b') for i in bins[:4]]\n",
    "    fracplt = frac[-3:] + frac[:4]\n",
    "    ## Plot it\n",
    "    print(fracplt)\n",
    "    ax.bar(range(1,8),fracplt, align='center',width=1)\n",
    "    ax.set_xticks(range(1,8))\n",
    "    ax.set_xticklabels(xticklabels)\n",
    "    ax.set_ylabel(\"Fraction of times teams 'Shook It Up\")\n",
    "    ax.set_xlabel(\"{0} 2016-2017 Season\".format(teams[j]))\n",
    "plt.show()"
   ]
  },
  {
   "cell_type": "markdown",
   "metadata": {},
   "source": [
    "For each individual team, the number of shake ups varies throughout the season. "
   ]
  },
  {
   "cell_type": "code",
   "execution_count": 8,
   "metadata": {},
   "outputs": [
    {
     "name": "stdout",
     "output_type": "stream",
     "text": [
      "Index(['Home Team', 'Away Score', 'Home Score', 'Away W/L Streak',\n",
      "       'Home W/L Streak', 'Away Wins', 'Home Wins', 'Away Losses',\n",
      "       'Home Losses', 'Away L12 Shuffled', 'Home L12 Shuffled',\n",
      "       'Away L12 Injury', 'Home L12 Injury', 'Away Scored Goals p1',\n",
      "       'Home Scored Goals p1', 'Away Allowed Goals p1',\n",
      "       'Home Allowed Goals p1', 'Away Scored Goals p2', 'Home Scored Goals p2',\n",
      "       'Away Allowed Goals p2', 'Home Allowed Goals p2',\n",
      "       'Away Scored Goals p5', 'Home Scored Goals p5', 'Away Allowed Goals p5',\n",
      "       'Home Allowed Goals p5', 'Away Scored Goals p10',\n",
      "       'Home Scored Goals p10', 'Away Allowed Goals p10',\n",
      "       'Home Allowed Goals p10', 'Date', 'Away Team'],\n",
      "      dtype='object')\n"
     ]
    }
   ],
   "source": [
    "print(df.columns)"
   ]
  },
  {
   "cell_type": "code",
   "execution_count": 9,
   "metadata": {},
   "outputs": [],
   "source": [
    "df_s = df.loc[(df[\"Home L12 Shuffled\"] == True) & (df[\"Home L12 Injury\"] == False) |\n",
    "              (df[\"Away L12 Shuffled\"] == True) & (df[\"Away L12 Injury\"] == False)]\n",
    "cols = ['Away Score', 'Home Score', 'Away W/L Streak',\n",
    "       'Home W/L Streak', 'Away Wins', 'Home Wins', 'Away Losses',\n",
    "       'Home Losses', \n",
    "       'Away Scored Goals p1',\n",
    "       'Home Scored Goals p1', 'Away Allowed Goals p1',\n",
    "       'Home Allowed Goals p1', 'Away Scored Goals p2', 'Home Scored Goals p2',\n",
    "       'Away Allowed Goals p2', 'Home Allowed Goals p2',\n",
    "       'Away Scored Goals p5', 'Home Scored Goals p5', 'Away Allowed Goals p5',\n",
    "       'Home Allowed Goals p5', 'Away Scored Goals p10',\n",
    "       'Home Scored Goals p10', 'Away Allowed Goals p10',\n",
    "       'Home Allowed Goals p10']\n",
    "\n",
    "df_s = df_s[cols]\n",
    "df_s[\"Away Win?\"] = df_s.apply(lambda row: int(row['Away Score'] > row['Home Score']), axis=1)\n",
    "df_s[\"Home Win?\"] = df_s.apply(lambda row: int(row['Away Score'] < row['Home Score']), axis=1)\n",
    "def AWin_Per(row):\n",
    "    if row['Away Wins'] == 0:\n",
    "        return 0.\n",
    "    else:\n",
    "        return float(row['Away Wins'])/float(row['Away Wins']+row['Away Losses'])*100\n",
    "def HWin_Per(row):\n",
    "    if row['Home Wins'] == 0:\n",
    "        return 0.\n",
    "    else:\n",
    "        return float(row['Home Wins'])/float(row['Home Wins']+row['Home Losses'])*100\n",
    "df_s[\"Away Win %\"] = df_s.apply(AWin_Per, axis=1)\n",
    "df_s[\"Home Win %\"] = df_s.apply(HWin_Per, axis=1)\n",
    "\n",
    "#pd.plotting.scatter_matrix(df_s, alpha = 0.3, figsize = (28,36), diagonal = 'kde');"
   ]
  },
  {
   "cell_type": "code",
   "execution_count": null,
   "metadata": {},
   "outputs": [],
   "source": []
  },
  {
   "cell_type": "code",
   "execution_count": 10,
   "metadata": {},
   "outputs": [
    {
     "data": {
      "text/plain": [
       "Index(['Away Score', 'Home Score', 'Away W/L Streak', 'Home W/L Streak',\n",
       "       'Away Wins', 'Home Wins', 'Away Losses', 'Home Losses',\n",
       "       'Away Scored Goals p1', 'Home Scored Goals p1', 'Away Allowed Goals p1',\n",
       "       'Home Allowed Goals p1', 'Away Scored Goals p2', 'Home Scored Goals p2',\n",
       "       'Away Allowed Goals p2', 'Home Allowed Goals p2',\n",
       "       'Away Scored Goals p5', 'Home Scored Goals p5', 'Away Allowed Goals p5',\n",
       "       'Home Allowed Goals p5', 'Away Scored Goals p10',\n",
       "       'Home Scored Goals p10', 'Away Allowed Goals p10',\n",
       "       'Home Allowed Goals p10', 'Away Win?', 'Home Win?', 'Away Win %',\n",
       "       'Home Win %'],\n",
       "      dtype='object')"
      ]
     },
     "execution_count": 10,
     "metadata": {},
     "output_type": "execute_result"
    }
   ],
   "source": [
    "df_s.columns\n",
    "\n"
   ]
  },
  {
   "cell_type": "markdown",
   "metadata": {},
   "source": [
    "'Away Scored Goals p1',\n",
    "       'Home Scored Goals p1', 'Away Allowed Goals p1',\n",
    "       'Home Allowed Goals p1', 'Away Scored Goals p2', 'Home Scored Goals p2',\n",
    "       'Away Allowed Goals p2', 'Home Allowed Goals p2',\n",
    "       'Away Scored Goals p5', 'Home Scored Goals p5', 'Away Allowed Goals p5',\n",
    "       'Home Allowed Goals p5', 'Away Scored Goals p10',\n",
    "       'Home Scored Goals p10', 'Away Allowed Goals p10',\n",
    "       'Home Allowed Goals p10'"
   ]
  },
  {
   "cell_type": "code",
   "execution_count": 12,
   "metadata": {},
   "outputs": [
    {
     "name": "stdout",
     "output_type": "stream",
     "text": [
      "Index(['Away Score', 'Home Score', 'Away W/L Streak', 'Home W/L Streak',\n",
      "       'Away Wins', 'Home Wins', 'Away Losses', 'Home Losses',\n",
      "       'Away Scored Goals p1', 'Home Scored Goals p1', 'Away Allowed Goals p1',\n",
      "       'Home Allowed Goals p1', 'Away Scored Goals p2', 'Home Scored Goals p2',\n",
      "       'Away Allowed Goals p2', 'Home Allowed Goals p2',\n",
      "       'Away Scored Goals p5', 'Home Scored Goals p5', 'Away Allowed Goals p5',\n",
      "       'Home Allowed Goals p5', 'Away Scored Goals p10',\n",
      "       'Home Scored Goals p10', 'Away Allowed Goals p10',\n",
      "       'Home Allowed Goals p10', 'Away Win?', 'Home Win?', 'Away Win %',\n",
      "       'Home Win %'],\n",
      "      dtype='object')\n",
      "RForest Mean Error   = 0.48824822695035464\n",
      "RForest Median Error = 0.491\n",
      "Index(['Away Score', 'Home Score', 'Away W/L Streak', 'Home W/L Streak',\n",
      "       'Away Wins', 'Home Wins', 'Away Losses', 'Home Losses',\n",
      "       'Away Scored Goals p1', 'Home Scored Goals p1', 'Away Allowed Goals p1',\n",
      "       'Home Allowed Goals p1', 'Away Scored Goals p2', 'Home Scored Goals p2',\n",
      "       'Away Allowed Goals p2', 'Home Allowed Goals p2',\n",
      "       'Away Scored Goals p5', 'Home Scored Goals p5', 'Away Allowed Goals p5',\n",
      "       'Home Allowed Goals p5', 'Away Scored Goals p10',\n",
      "       'Home Scored Goals p10', 'Away Allowed Goals p10',\n",
      "       'Home Allowed Goals p10', 'Away Win?', 'Home Win?', 'Away Win %',\n",
      "       'Home Win %'],\n",
      "      dtype='object') [-0.02517977  0.00150161 -0.00168783 -0.00640337  0.02068814 -0.01435665\n",
      "  0.00378974 -0.0228362  -0.01814572  0.00292328  0.01027221  0.02468984\n",
      "  0.00155737  0.01265464  0.00104038 -0.01679317 -0.01175688 -0.00131881\n",
      " -0.0014463   0.00968671 -0.00087521 -0.01088323  0.00190962 -0.00195516]\n",
      "0.3317848445757243\n",
      "0.5661667968523291\n",
      "0.40140496677636506\n",
      "0.7337043439162863\n",
      "0.7138052069090597\n",
      "0.8777251040007366\n",
      "0.7831188579477958\n",
      "0.6230623608527821\n",
      "0.7220570127484336\n",
      "0.5494303058279313\n",
      "0.5111819986047252\n",
      "0.5491406663478806\n",
      "0.4614458183164225\n",
      "0.5465976415631144\n",
      "0.7900787674920491\n",
      "0.6341150286294114\n",
      "0.7202690259549421\n",
      "0.3568768572951877\n",
      "0.4916123159512022\n",
      "0.6985853221068963\n",
      "0.5111278267130023\n",
      "0.7036170236760877\n",
      "1.0059559832000837\n",
      "0.6839772570254048\n",
      "0.5718359936631358\n",
      "0.7100606779378655\n",
      "0.7550236757567763\n",
      "0.5472775917963015\n",
      "0.6761165440039023\n",
      "0.7385734553817909\n",
      "0.6783107996774942\n",
      "0.5922298885961605\n",
      "0.4690287370663658\n",
      "0.5389972458626342\n",
      "0.6013577339709213\n",
      "0.4000620075178809\n",
      "0.3370750902847771\n",
      "0.5058658967705896\n",
      "0.7512117064981619\n",
      "0.09635708046592095\n",
      "0.4095919223343446\n",
      "0.7855328098755122\n",
      "0.6537628703848204\n",
      "0.41713516092959\n",
      "0.8923404972816599\n",
      "0.5867698301761195\n",
      "0.5432871746147889\n",
      "0.5493029468198064\n",
      "0.6159854245886706\n",
      "0.5413781747436127\n",
      "0.8544489599351255\n",
      "0.5473173411307286\n",
      "0.5388619183670516\n",
      "0.4333016867076847\n",
      "0.4893872082498862\n",
      "0.49685274328380014\n",
      "0.7000427745993394\n",
      "0.5055350369098374\n",
      "0.41195067388949896\n",
      "0.5807257387616924\n",
      "0.741119373022659\n",
      "0.5833566795507588\n",
      "0.512807634596218\n",
      "0.5367231061484125\n",
      "0.6534840388418834\n",
      "0.7566275504829221\n",
      "0.7906112209108065\n",
      "0.39505597287672223\n",
      "0.39235228761050833\n",
      "0.6112681631731529\n",
      "0.6867641532631692\n",
      "0.35723970373280933\n",
      "0.5600899298872035\n",
      "0.6362876073794477\n",
      "0.5820306996886716\n",
      "0.6535735679513941\n",
      "0.5265185228088509\n",
      "0.5691445329772382\n",
      "0.5087767679907511\n",
      "0.4952317074298629\n",
      "0.6241750760630339\n",
      "0.6923867871257365\n",
      "0.5228186544949827\n",
      "0.5099907931164958\n",
      "0.3701441427834232\n",
      "0.4362656374078445\n",
      "0.5837281089755061\n",
      "0.4281903099637784\n",
      "0.6718438501010131\n",
      "0.5982294979727911\n",
      "0.532848219838451\n",
      "0.6149404869767955\n",
      "0.6345507955522234\n",
      "0.6586040597220209\n",
      "0.7157639033832689\n",
      "0.6826432541861032\n",
      "0.5641632423169196\n",
      "0.6261002398361654\n",
      "0.5802196754334867\n",
      "0.5571720186470366\n",
      "0.4900108079010013\n",
      "0.44163628159836826\n",
      "0.483929065105399\n",
      "0.5849230608593611\n",
      "0.6469510999396566\n",
      "0.4293931192581142\n",
      "0.5147263822437473\n",
      "0.551134810972773\n",
      "0.2044487453152123\n",
      "0.5196629116371471\n",
      "0.709362006274519\n",
      "0.6528195232616401\n",
      "0.49527979814523926\n",
      "0.5576961878385414\n",
      "0.6984919841840698\n",
      "0.5502900158831496\n",
      "0.2662547336308718\n",
      "0.33645995111518323\n",
      "0.557022645198194\n",
      "0.5400803418407719\n",
      "0.6801466583389286\n",
      "0.6549356261014101\n",
      "0.5985635952067477\n",
      "0.4548571040120525\n",
      "0.6461657615234825\n",
      "0.5844830108060812\n",
      "0.6437811619462455\n",
      "0.6196861203052524\n",
      "0.6286415340538875\n",
      "0.7343796474372353\n",
      "0.5081946066271876\n",
      "0.5065305941834753\n",
      "0.5290437494436833\n",
      "0.6054611925145149\n",
      "0.9173826505543404\n",
      "0.25435083385303714\n",
      "0.28850771505106143\n",
      "0.6080208658096881\n",
      "0.5265631914181081\n",
      "0.6220917465736051\n",
      "0.5631392834915878\n",
      "Linear Mean Error   = 0.46839765537891603\n",
      "Linear Median Error = 0.48719236540378197\n"
     ]
    }
   ],
   "source": [
    "from sklearn.linear_model import LinearRegression\n",
    "from sklearn.ensemble import RandomForestRegressor\n",
    "from sklearn import model_selection\n",
    "print(df_s.columns)\n",
    "# Split-out validation dataset\n",
    "X = df_s.drop(['Away Win?', 'Home Win?',\"Away Score\",\"Home Score\"], axis=1)\n",
    "Y = df_s[\"Home Win?\"]\n",
    "validation_size = 0.20\n",
    "seed = 242345567\n",
    "X_train, X_validation, Y_train, Y_validation = model_selection.train_test_split(X, Y, test_size=validation_size, random_state=seed)\n",
    "\n",
    "\n",
    "\n",
    "model = RandomForestRegressor(n_estimators=1000, min_samples_leaf=1, random_state=seed)\n",
    "# Fit the model to the data.\n",
    "model.fit(X_train,Y_train)\n",
    "# Make predictions.\n",
    "predictions = model.predict(X_validation)\n",
    "#print(Y_validation)\n",
    "# Compute the error.\n",
    "err = np.zeros(len(predictions))\n",
    "for i in range(len(err)):\n",
    "    err[i] = abs(predictions[i]-Y_validation.iat[i])\n",
    "print(\"RForest Mean Error   = {0}\".format(np.mean(err)))\n",
    "print(\"RForest Median Error = {0}\".format(np.median(err)))\n",
    "\n",
    "\n",
    "model = LinearRegression()\n",
    "model.fit(X_train,Y_train)\n",
    "predictions = model.predict(X_validation)\n",
    "print(df_s.columns,model.coef_)\n",
    "#print(\"Intercept: {0}\".format(model.intercept_))\n",
    "#for i in range(len(X[0,:])):\n",
    "    #print(\"Coeffient: {0} = {1}\".format(dataset.columns[i],model.coef_[i]))\n",
    "\n",
    "# Compute the error.\n",
    "err = np.zeros(len(predictions))\n",
    "for i in range(len(err)):\n",
    "    print(predictions[i])\n",
    "    err[i] = abs(predictions[i]-Y_validation.iat[i])\n",
    "\n",
    "print(\"Linear Mean Error   = {0}\".format(np.mean(err)))\n",
    "print(\"Linear Median Error = {0}\".format(np.median(err)))\n",
    "\n"
   ]
  },
  {
   "cell_type": "code",
   "execution_count": 13,
   "metadata": {},
   "outputs": [
    {
     "data": {
      "text/plain": [
       "Index(['Away W/L Streak', 'Home W/L Streak', 'Away Wins', 'Home Wins',\n",
       "       'Away Losses', 'Home Losses', 'Away Scored Goals p1',\n",
       "       'Home Scored Goals p1', 'Away Allowed Goals p1',\n",
       "       'Home Allowed Goals p1', 'Away Scored Goals p2', 'Home Scored Goals p2',\n",
       "       'Away Allowed Goals p2', 'Home Allowed Goals p2',\n",
       "       'Away Scored Goals p5', 'Home Scored Goals p5', 'Away Allowed Goals p5',\n",
       "       'Home Allowed Goals p5', 'Away Scored Goals p10',\n",
       "       'Home Scored Goals p10', 'Away Allowed Goals p10',\n",
       "       'Home Allowed Goals p10', 'Away Win %', 'Home Win %'],\n",
       "      dtype='object')"
      ]
     },
     "execution_count": 13,
     "metadata": {},
     "output_type": "execute_result"
    }
   ],
   "source": [
    "X.columns"
   ]
  },
  {
   "cell_type": "code",
   "execution_count": null,
   "metadata": {},
   "outputs": [],
   "source": []
  },
  {
   "cell_type": "code",
   "execution_count": null,
   "metadata": {},
   "outputs": [],
   "source": []
  },
  {
   "cell_type": "code",
   "execution_count": 62,
   "metadata": {},
   "outputs": [
    {
     "data": {
      "image/png": "[encoded data removed]",
      "text/plain": [
       "<matplotlib.figure.Figure at 0x7f0e6e9b88d0>"
      ]
     },
     "metadata": {},
     "output_type": "display_data"
    }
   ],
   "source": [
    "plt.scatter(X2['Away Wins'],X2['Home Wins'],c=Y)\n",
    "plt.xlabel(\"Away Wins\")\n",
    "plt.ylabel(\"Home Wins\")\n",
    "plt.plot(X2['Away Wins'],(model.intercept_ - .5 + model.coef_[0]*X2['Away Wins'])/(-model.coef_[1]),label=\"Linear Reg. Decison Boundary\")\n",
    "plt.axis([0,60,0,60])\n",
    "plt.show()"
   ]
  },
  {
   "cell_type": "code",
   "execution_count": 97,
   "metadata": {},
   "outputs": [
    {
     "name": "stdout",
     "output_type": "stream",
     "text": [
      "Intercept: 0.6350553342393939\n",
      "Coeffient: Away W/L Streak = -0.15781066811339653\n",
      "Coeffient: Home W/L Streak = 0.0038260195310440806\n",
      "Coeffient: Away Wins = 0.013689143979339461\n",
      "Coeffient: Home Wins = -0.06192748155020078\n",
      "Coeffient: Away Losses = 0.12943750007408397\n",
      "Coeffient: Home Losses = -0.08788421315615563\n",
      "Coeffient: Away Scored Goals p1 = 0.15910201150861325\n",
      "Coeffient: Home Scored Goals p1 = -0.13316279219599272\n",
      "Coeffient: Away Allowed Goals p1 = -0.1223352378362568\n",
      "Coeffient: Home Allowed Goals p1 = -0.018639325998745872\n",
      "Coeffient: Away Scored Goals p2 = 0.008206585769714813\n",
      "Coeffient: Home Scored Goals p2 = 0.13401226583625753\n",
      "Coeffient: Away Allowed Goals p2 = 0.000588047737172212\n",
      "Coeffient: Home Allowed Goals p2 = 0.07179632683225073\n",
      "Coeffient: Away Scored Goals p5 = -0.01240388373808699\n",
      "Coeffient: Home Scored Goals p5 = -0.10892800958940217\n",
      "Coeffient: Away Allowed Goals p5 = -0.04827519037570821\n",
      "Coeffient: Home Allowed Goals p5 = 0.059257472972235964\n",
      "Coeffient: Away Scored Goals p10 = 0.003785028005947534\n",
      "Coeffient: Home Scored Goals p10 = 0.0360766711215922\n",
      "Coeffient: Away Allowed Goals p10 = 0.01650004756679003\n",
      "Coeffient: Home Allowed Goals p10 = -0.06603958384315003\n",
      "Coeffient: Away Win % = 0.01584027027052557\n",
      "Coeffient: Home Win % = -0.003969930526196408\n",
      "Logistic Mean Error   = 0.43822773843000096\n",
      "Logistic Median Error = 0.41911203331557\n",
      "Percent Correctly Classified = 0.5460992907801419\n"
     ]
    }
   ],
   "source": [
    "from sklearn.linear_model import LogisticRegression\n",
    "# Split-out validation dataset\n",
    "X = df_s.drop(['Away Win?', 'Home Win?',\"Away Score\",\"Home Score\"], axis=1)\n",
    "Y = df_s[\"Home Win?\"]\n",
    "validation_size = 0.20\n",
    "seed = 2423188956\n",
    "X_train, X_validation, Y_train, Y_validation = model_selection.train_test_split(X, Y, test_size=validation_size, random_state=seed)\n",
    "\n",
    "\n",
    "modelLog = LogisticRegression()\n",
    "modelLog.fit(X_train,Y_train)\n",
    "predictions = modelLog.predict(X_validation)\n",
    "prob_preds   = modelLog.predict_proba(X_validation)\n",
    "#print(df_s.columns,model.coef_)\n",
    "print(\"Intercept: {0}\".format(model.intercept_))\n",
    "for i in range(len(X.columns)):\n",
    "    print(\"Coeffient: {0} = {1}\".format(X.columns[i],modelLog.coef_[0][i]))\n",
    "\n",
    "# Compute the error.\n",
    "err = np.zeros(len(predictions))\n",
    "Ncc = 0\n",
    "for i in range(len(err)):\n",
    "    if predictions[i] == Y_validation.iat[i]:\n",
    "        Ncc += 1\n",
    "    if Y_validation.iat[i] == 1:\n",
    "        err[i] = 1 - prob_preds[i][1]\n",
    "    else:\n",
    "        err[i] = prob_preds[i][0]\n",
    "        \n",
    "print(\"Logistic Mean Error   = {0}\".format(np.mean(err)))\n",
    "print(\"Logistic Median Error = {0}\".format(np.median(err)))\n",
    "print(\"Percent Correctly Classified = {0}\".format(Ncc/len(err)))"
   ]
  },
  {
   "cell_type": "code",
   "execution_count": 88,
   "metadata": {},
   "outputs": [
    {
     "name": "stdout",
     "output_type": "stream",
     "text": [
      "Index(['Away Score', 'Home Score', 'Away W/L Streak', 'Home W/L Streak',\n",
      "       'Away Wins', 'Home Wins', 'Away Losses', 'Home Losses',\n",
      "       'Away Scored Goals p1', 'Home Scored Goals p1', 'Away Allowed Goals p1',\n",
      "       'Home Allowed Goals p1', 'Away Scored Goals p2', 'Home Scored Goals p2',\n",
      "       'Away Allowed Goals p2', 'Home Allowed Goals p2',\n",
      "       'Away Scored Goals p5', 'Home Scored Goals p5', 'Away Allowed Goals p5',\n",
      "       'Home Allowed Goals p5', 'Away Scored Goals p10',\n",
      "       'Home Scored Goals p10', 'Away Allowed Goals p10',\n",
      "       'Home Allowed Goals p10', 'Away Win?', 'Home Win?', 'Away Win %',\n",
      "       'Home Win %'],\n",
      "      dtype='object') [-0.01712317  0.01311117]\n",
      "Intercept: 0.6350553342393939\n",
      "Coeffient: Away Wins = -0.017123170983308417\n",
      "Coeffient: Home Wins = 0.013111165560278415\n",
      "Linear Mean Error   = 0.4836416109102465\n",
      "Linear Median Error = 0.468412813312787\n",
      "Percent Correctly Classified = 0.5673758865248227\n",
      "Logistic Mean Error   = 0.45520815612718396\n",
      "Logistic Median Error = 0.42524144854656876\n",
      "Percent Correctly Classified = 0.5673758865248227\n"
     ]
    }
   ],
   "source": [
    "X2 = X[['Away Wins', 'Home Wins']]\n",
    "validation_size = 0.20\n",
    "seed = 2432567\n",
    "X_train, X_validation, Y_train, Y_validation = model_selection.train_test_split(X2, Y, test_size=validation_size, random_state=seed)\n",
    "\n",
    "model = LinearRegression()\n",
    "model.fit(X_train,Y_train)\n",
    "predictions = model.predict(X_validation)\n",
    "print(df_s.columns,model.coef_)\n",
    "print(\"Intercept: {0}\".format(model.intercept_))\n",
    "for i in range(len(X2.columns)):\n",
    "    print(\"Coeffient: {0} = {1}\".format(X2.columns[i],model.coef_[i]))\n",
    "\n",
    "# Compute the error.\n",
    "err = np.zeros(len(predictions))\n",
    "Ncc = 0\n",
    "for i in range(len(err)):\n",
    "    err[i] = abs(predictions[i]-Y_validation.iat[i])\n",
    "    if err[i] < .5:\n",
    "        Ncc += 1\n",
    "print(\"Linear Mean Error   = {0}\".format(np.mean(err)))\n",
    "print(\"Linear Median Error = {0}\".format(np.median(err)))\n",
    "print(\"Percent Correctly Classified = {0}\".format(Ncc/len(err)))\n",
    "\n",
    "\n",
    "modelLog = LogisticRegression()\n",
    "modelLog.fit(X_train,Y_train)\n",
    "predictions = modelLog.predict(X_validation)\n",
    "prob_preds   = modelLog.predict_proba(X_validation)\n",
    "#print(df_s.columns,model.coef_)\n",
    "#print(\"Intercept: {0}\".format(model.intercept_))\n",
    "#for i in range(len(X[0,:])):\n",
    "    #print(\"Coeffient: {0} = {1}\".format(dataset.columns[i],model.coef_[i]))\n",
    "\n",
    "# Compute the error.\n",
    "err = np.zeros(len(predictions))\n",
    "Ncc = 0\n",
    "for i in range(len(err)):\n",
    "    if predictions[i] == Y_validation.iat[i]:\n",
    "        Ncc += 1\n",
    "    if Y_validation.iat[i] == 1:\n",
    "        err[i] = 1 - prob_preds[i][1]\n",
    "    else:\n",
    "        err[i] = prob_preds[i][0]\n",
    "print(\"Logistic Mean Error   = {0}\".format(np.mean(err)))\n",
    "print(\"Logistic Median Error = {0}\".format(np.median(err)))\n",
    "print(\"Percent Correctly Classified = {0}\".format(Ncc/len(err)))\n"
   ]
  },
  {
   "cell_type": "code",
   "execution_count": 84,
   "metadata": {},
   "outputs": [
    {
     "data": {
      "image/png": "[encoded data removed]",
      "text/plain": [
       "<matplotlib.figure.Figure at 0x7f0e6e884b38>"
      ]
     },
     "metadata": {},
     "output_type": "display_data"
    }
   ],
   "source": [
    "plt.scatter(X2['Away Wins'],X2['Home Wins'],c=Y)\n",
    "plt.xlabel(\"Away Wins\")\n",
    "plt.ylabel(\"Home Wins\")\n",
    "plt.plot(X2['Away Wins'],(model.intercept_ - .5 + model.coef_[0]*X2['Away Wins'])/(-model.coef_[1]),label=\"Linear Reg. Decison Boundary\")\n",
    "plt.plot(X2['Away Wins'],(modelLog.intercept_ + modelLog.coef_[0][0]*X2['Away Wins'])/(-modelLog.coef_[0][1]),label=\"Logistic Reg. Decison Boundary\")\n",
    "plt.axis([0,60,0,60])\n",
    "plt.show()\n"
   ]
  },
  {
   "cell_type": "code",
   "execution_count": 83,
   "metadata": {},
   "outputs": [
    {
     "data": {
      "text/html": [
       "<div>\n",
       "<style>\n",
       "    .dataframe thead tr:only-child th {\n",
       "        text-align: right;\n",
       "    }\n",
       "\n",
       "    .dataframe thead th {\n",
       "        text-align: left;\n",
       "    }\n",
       "\n",
       "    .dataframe tbody tr th {\n",
       "        vertical-align: top;\n",
       "    }\n",
       "</style>\n",
       "<table border=\"1\" class=\"dataframe\">\n",
       "  <thead>\n",
       "    <tr style=\"text-align: right;\">\n",
       "      <th></th>\n",
       "      <th>Away Wins</th>\n",
       "      <th>Home Wins</th>\n",
       "    </tr>\n",
       "  </thead>\n",
       "  <tbody>\n",
       "    <tr>\n",
       "      <th>781</th>\n",
       "      <td>33</td>\n",
       "      <td>23</td>\n",
       "    </tr>\n",
       "    <tr>\n",
       "      <th>640</th>\n",
       "      <td>16</td>\n",
       "      <td>20</td>\n",
       "    </tr>\n",
       "    <tr>\n",
       "      <th>952</th>\n",
       "      <td>25</td>\n",
       "      <td>34</td>\n",
       "    </tr>\n",
       "    <tr>\n",
       "      <th>969</th>\n",
       "      <td>38</td>\n",
       "      <td>30</td>\n",
       "    </tr>\n",
       "    <tr>\n",
       "      <th>559</th>\n",
       "      <td>20</td>\n",
       "      <td>21</td>\n",
       "    </tr>\n",
       "    <tr>\n",
       "      <th>710</th>\n",
       "      <td>26</td>\n",
       "      <td>22</td>\n",
       "    </tr>\n",
       "    <tr>\n",
       "      <th>316</th>\n",
       "      <td>8</td>\n",
       "      <td>12</td>\n",
       "    </tr>\n",
       "    <tr>\n",
       "      <th>326</th>\n",
       "      <td>10</td>\n",
       "      <td>9</td>\n",
       "    </tr>\n",
       "    <tr>\n",
       "      <th>439</th>\n",
       "      <td>16</td>\n",
       "      <td>11</td>\n",
       "    </tr>\n",
       "    <tr>\n",
       "      <th>927</th>\n",
       "      <td>17</td>\n",
       "      <td>28</td>\n",
       "    </tr>\n",
       "    <tr>\n",
       "      <th>575</th>\n",
       "      <td>11</td>\n",
       "      <td>18</td>\n",
       "    </tr>\n",
       "    <tr>\n",
       "      <th>1036</th>\n",
       "      <td>30</td>\n",
       "      <td>44</td>\n",
       "    </tr>\n",
       "    <tr>\n",
       "      <th>1054</th>\n",
       "      <td>44</td>\n",
       "      <td>43</td>\n",
       "    </tr>\n",
       "    <tr>\n",
       "      <th>438</th>\n",
       "      <td>18</td>\n",
       "      <td>20</td>\n",
       "    </tr>\n",
       "    <tr>\n",
       "      <th>70</th>\n",
       "      <td>4</td>\n",
       "      <td>1</td>\n",
       "    </tr>\n",
       "    <tr>\n",
       "      <th>835</th>\n",
       "      <td>29</td>\n",
       "      <td>37</td>\n",
       "    </tr>\n",
       "    <tr>\n",
       "      <th>670</th>\n",
       "      <td>23</td>\n",
       "      <td>19</td>\n",
       "    </tr>\n",
       "    <tr>\n",
       "      <th>383</th>\n",
       "      <td>13</td>\n",
       "      <td>10</td>\n",
       "    </tr>\n",
       "    <tr>\n",
       "      <th>1092</th>\n",
       "      <td>31</td>\n",
       "      <td>41</td>\n",
       "    </tr>\n",
       "    <tr>\n",
       "      <th>642</th>\n",
       "      <td>26</td>\n",
       "      <td>18</td>\n",
       "    </tr>\n",
       "    <tr>\n",
       "      <th>808</th>\n",
       "      <td>23</td>\n",
       "      <td>26</td>\n",
       "    </tr>\n",
       "    <tr>\n",
       "      <th>1200</th>\n",
       "      <td>43</td>\n",
       "      <td>33</td>\n",
       "    </tr>\n",
       "    <tr>\n",
       "      <th>376</th>\n",
       "      <td>11</td>\n",
       "      <td>9</td>\n",
       "    </tr>\n",
       "    <tr>\n",
       "      <th>1165</th>\n",
       "      <td>51</td>\n",
       "      <td>49</td>\n",
       "    </tr>\n",
       "    <tr>\n",
       "      <th>201</th>\n",
       "      <td>7</td>\n",
       "      <td>11</td>\n",
       "    </tr>\n",
       "    <tr>\n",
       "      <th>980</th>\n",
       "      <td>25</td>\n",
       "      <td>34</td>\n",
       "    </tr>\n",
       "    <tr>\n",
       "      <th>955</th>\n",
       "      <td>41</td>\n",
       "      <td>32</td>\n",
       "    </tr>\n",
       "    <tr>\n",
       "      <th>919</th>\n",
       "      <td>33</td>\n",
       "      <td>27</td>\n",
       "    </tr>\n",
       "    <tr>\n",
       "      <th>173</th>\n",
       "      <td>5</td>\n",
       "      <td>5</td>\n",
       "    </tr>\n",
       "    <tr>\n",
       "      <th>937</th>\n",
       "      <td>29</td>\n",
       "      <td>25</td>\n",
       "    </tr>\n",
       "    <tr>\n",
       "      <th>...</th>\n",
       "      <td>...</td>\n",
       "      <td>...</td>\n",
       "    </tr>\n",
       "    <tr>\n",
       "      <th>973</th>\n",
       "      <td>25</td>\n",
       "      <td>41</td>\n",
       "    </tr>\n",
       "    <tr>\n",
       "      <th>1066</th>\n",
       "      <td>43</td>\n",
       "      <td>31</td>\n",
       "    </tr>\n",
       "    <tr>\n",
       "      <th>442</th>\n",
       "      <td>17</td>\n",
       "      <td>16</td>\n",
       "    </tr>\n",
       "    <tr>\n",
       "      <th>32</th>\n",
       "      <td>2</td>\n",
       "      <td>0</td>\n",
       "    </tr>\n",
       "    <tr>\n",
       "      <th>1167</th>\n",
       "      <td>42</td>\n",
       "      <td>50</td>\n",
       "    </tr>\n",
       "    <tr>\n",
       "      <th>793</th>\n",
       "      <td>26</td>\n",
       "      <td>27</td>\n",
       "    </tr>\n",
       "    <tr>\n",
       "      <th>975</th>\n",
       "      <td>30</td>\n",
       "      <td>35</td>\n",
       "    </tr>\n",
       "    <tr>\n",
       "      <th>1045</th>\n",
       "      <td>34</td>\n",
       "      <td>45</td>\n",
       "    </tr>\n",
       "    <tr>\n",
       "      <th>1107</th>\n",
       "      <td>29</td>\n",
       "      <td>44</td>\n",
       "    </tr>\n",
       "    <tr>\n",
       "      <th>170</th>\n",
       "      <td>4</td>\n",
       "      <td>6</td>\n",
       "    </tr>\n",
       "    <tr>\n",
       "      <th>594</th>\n",
       "      <td>24</td>\n",
       "      <td>19</td>\n",
       "    </tr>\n",
       "    <tr>\n",
       "      <th>141</th>\n",
       "      <td>5</td>\n",
       "      <td>4</td>\n",
       "    </tr>\n",
       "    <tr>\n",
       "      <th>635</th>\n",
       "      <td>18</td>\n",
       "      <td>28</td>\n",
       "    </tr>\n",
       "    <tr>\n",
       "      <th>1112</th>\n",
       "      <td>41</td>\n",
       "      <td>40</td>\n",
       "    </tr>\n",
       "    <tr>\n",
       "      <th>518</th>\n",
       "      <td>16</td>\n",
       "      <td>22</td>\n",
       "    </tr>\n",
       "    <tr>\n",
       "      <th>925</th>\n",
       "      <td>39</td>\n",
       "      <td>34</td>\n",
       "    </tr>\n",
       "    <tr>\n",
       "      <th>287</th>\n",
       "      <td>7</td>\n",
       "      <td>6</td>\n",
       "    </tr>\n",
       "    <tr>\n",
       "      <th>327</th>\n",
       "      <td>10</td>\n",
       "      <td>6</td>\n",
       "    </tr>\n",
       "    <tr>\n",
       "      <th>254</th>\n",
       "      <td>13</td>\n",
       "      <td>5</td>\n",
       "    </tr>\n",
       "    <tr>\n",
       "      <th>87</th>\n",
       "      <td>1</td>\n",
       "      <td>2</td>\n",
       "    </tr>\n",
       "    <tr>\n",
       "      <th>385</th>\n",
       "      <td>9</td>\n",
       "      <td>11</td>\n",
       "    </tr>\n",
       "    <tr>\n",
       "      <th>1174</th>\n",
       "      <td>43</td>\n",
       "      <td>30</td>\n",
       "    </tr>\n",
       "    <tr>\n",
       "      <th>765</th>\n",
       "      <td>22</td>\n",
       "      <td>20</td>\n",
       "    </tr>\n",
       "    <tr>\n",
       "      <th>1011</th>\n",
       "      <td>43</td>\n",
       "      <td>26</td>\n",
       "    </tr>\n",
       "    <tr>\n",
       "      <th>206</th>\n",
       "      <td>8</td>\n",
       "      <td>10</td>\n",
       "    </tr>\n",
       "    <tr>\n",
       "      <th>576</th>\n",
       "      <td>19</td>\n",
       "      <td>20</td>\n",
       "    </tr>\n",
       "    <tr>\n",
       "      <th>827</th>\n",
       "      <td>24</td>\n",
       "      <td>23</td>\n",
       "    </tr>\n",
       "    <tr>\n",
       "      <th>822</th>\n",
       "      <td>33</td>\n",
       "      <td>26</td>\n",
       "    </tr>\n",
       "    <tr>\n",
       "      <th>1187</th>\n",
       "      <td>49</td>\n",
       "      <td>48</td>\n",
       "    </tr>\n",
       "    <tr>\n",
       "      <th>1099</th>\n",
       "      <td>42</td>\n",
       "      <td>29</td>\n",
       "    </tr>\n",
       "  </tbody>\n",
       "</table>\n",
       "<p>561 rows × 2 columns</p>\n",
       "</div>"
      ],
      "text/plain": [
       "      Away Wins  Home Wins\n",
       "781          33         23\n",
       "640          16         20\n",
       "952          25         34\n",
       "969          38         30\n",
       "559          20         21\n",
       "710          26         22\n",
       "316           8         12\n",
       "326          10          9\n",
       "439          16         11\n",
       "927          17         28\n",
       "575          11         18\n",
       "1036         30         44\n",
       "1054         44         43\n",
       "438          18         20\n",
       "70            4          1\n",
       "835          29         37\n",
       "670          23         19\n",
       "383          13         10\n",
       "1092         31         41\n",
       "642          26         18\n",
       "808          23         26\n",
       "1200         43         33\n",
       "376          11          9\n",
       "1165         51         49\n",
       "201           7         11\n",
       "980          25         34\n",
       "955          41         32\n",
       "919          33         27\n",
       "173           5          5\n",
       "937          29         25\n",
       "...         ...        ...\n",
       "973          25         41\n",
       "1066         43         31\n",
       "442          17         16\n",
       "32            2          0\n",
       "1167         42         50\n",
       "793          26         27\n",
       "975          30         35\n",
       "1045         34         45\n",
       "1107         29         44\n",
       "170           4          6\n",
       "594          24         19\n",
       "141           5          4\n",
       "635          18         28\n",
       "1112         41         40\n",
       "518          16         22\n",
       "925          39         34\n",
       "287           7          6\n",
       "327          10          6\n",
       "254          13          5\n",
       "87            1          2\n",
       "385           9         11\n",
       "1174         43         30\n",
       "765          22         20\n",
       "1011         43         26\n",
       "206           8         10\n",
       "576          19         20\n",
       "827          24         23\n",
       "822          33         26\n",
       "1187         49         48\n",
       "1099         42         29\n",
       "\n",
       "[561 rows x 2 columns]"
      ]
     },
     "execution_count": 83,
     "metadata": {},
     "output_type": "execute_result"
    }
   ],
   "source": [
    "X_train\n",
    "#modelLog.coef_"
   ]
  },
  {
   "cell_type": "code",
   "execution_count": null,
   "metadata": {},
   "outputs": [],
   "source": []
  }
 ],
 "metadata": {
  "kernelspec": {
   "display_name": "Python 3",
   "language": "python",
   "name": "python3"
  },
  "language_info": {
   "codemirror_mode": {
    "name": "ipython",
    "version": 3
   },
   "file_extension": ".py",
   "mimetype": "text/x-python",
   "name": "python",
   "nbconvert_exporter": "python",
   "pygments_lexer": "ipython3",
   "version": "3.5.2"
  }
 },
 "nbformat": 4,
 "nbformat_minor": 2
}
