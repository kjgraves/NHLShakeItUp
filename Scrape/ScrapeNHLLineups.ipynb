{
 "cells": [
  {
   "cell_type": "markdown",
   "metadata": {},
   "source": [
    "# Scrape NHL Lineups\n",
    "## Scraping lines from a single date\n",
    "In this notebook, I show some of the basic functions that I use to gather NHL starting lineups attempt to answer the questions of if/when/how often teams should \"shake up their lines.\" I scrape the data from https://www.rotogrinders.com, a daily fantasy sports website. I use rotogrinders, because many other websites (e.g. https://www.nhl.com/stats, https://www.hockey-reference.com) do not list starting lineups in their stats (at least, not where I could find)."
   ]
  },
  {
   "cell_type": "markdown",
   "metadata": {},
   "source": [
    "First, let's load in requests and BeautifulSoup to acquire and parse the data."
   ]
  },
  {
   "cell_type": "code",
   "execution_count": 1,
   "metadata": {},
   "outputs": [],
   "source": [
    "import requests\n",
    "from bs4 import BeautifulSoup\n",
    "import numpy as np\n",
    "import pandas as pd"
   ]
  },
  {
   "cell_type": "markdown",
   "metadata": {},
   "source": [
    "Let's just do one page. As a test we will scrape all of the team names (and whether they are home or away) and their lineups for Jan 7, 2017."
   ]
  },
  {
   "cell_type": "code",
   "execution_count": 2,
   "metadata": {},
   "outputs": [],
   "source": [
    "page = requests.get(\"https://rotogrinders.com/lineups/nhl?date=2017-01-07&site=fanduel\")\n",
    "soup = BeautifulSoup(page.content, 'html.parser')"
   ]
  },
  {
   "cell_type": "markdown",
   "metadata": {},
   "source": [
    "All of the games can be found in the 'li' tag with an attribute data-role=\"lineup-card.\""
   ]
  },
  {
   "cell_type": "code",
   "execution_count": 3,
   "metadata": {},
   "outputs": [],
   "source": [
    "games = soup.find_all('li',{'data-role':\"lineup-card\"})"
   ]
  },
  {
   "cell_type": "markdown",
   "metadata": {},
   "source": [
    "Let's build some functions to do the dirty low-level scraping. This is useful to reduce repeated code, and to allow the code to be changed more easily if the html on rotogrinders ever changes. For now, I am only scraping the forward lines, and not considering the defensive pairings."
   ]
  },
  {
   "cell_type": "code",
   "execution_count": 4,
   "metadata": {},
   "outputs": [],
   "source": [
    "def get_lineups(games):\n",
    "    \"\"\"\n",
    "    Gather all of the lineups for a list of games.\n",
    "    INPUTS:\n",
    "        -) games: a list of tags, each of which containing one game\n",
    "    OUTPUTS:\n",
    "        -) AwayTeams: list of the away teams\n",
    "        -) HomeTeams: list of the home teams\n",
    "        -) AwayLineups: list of dicts of the away teams' lineups\n",
    "        -) HomeLineups: list of dicts of the away teams' lineups\n",
    "    \"\"\"\n",
    "    Ngames = len(games)\n",
    "    AwayTeams = [0]*Ngames\n",
    "    HomeTeams = [0]*Ngames\n",
    "    AwayLineups = [dict() for x in range(Ngames)]\n",
    "    HomeLineups = [dict() for x in range(Ngames)]\n",
    "    for i in range(Ngames):\n",
    "        AwayTeams[i] = games[i].attrs[\"data-away\"]\n",
    "        HomeTeams[i] = games[i].attrs[\"data-home\"]   \n",
    "        AR = games[i].find('div',{'class':'blk away-team'})\n",
    "        HR = games[i].find('div',{'class':'blk home-team'})\n",
    "        for l in range(1,5):\n",
    "            AwayLineups[i]['L'+str(l)] = get_line(AR,l)\n",
    "            HomeLineups[i]['L'+str(l)] = get_line(HR,l)\n",
    "    return AwayTeams, HomeTeams, AwayLineups, HomeLineups"
   ]
  },
  {
   "cell_type": "code",
   "execution_count": 5,
   "metadata": {},
   "outputs": [],
   "source": [
    "def get_line(roster_tag,line):\n",
    "    \"\"\"\n",
    "    Gather a single line given the line number and a tag.\n",
    "    INPUTS:\n",
    "        -) roster_tag: tag of the roster for the team\n",
    "        -) line: integer of the line number to grab\n",
    "    OUTPUT:\n",
    "        -) tuple of the names of the players in the line\n",
    "    \"\"\"\n",
    "    line_tags = roster_tag.find(\"h4\",text=\"Line \"+str(line)).parent.find_all('li')\n",
    "    line = []\n",
    "    for lt in line_tags:\n",
    "        try:\n",
    "            line.append(lt.find('a',{'class':'player-popup'}).attrs['title'])\n",
    "        except AttributeError:\n",
    "            # If this player does not have a fantasy score, they built the html differently\n",
    "            line.append(lt.find('span').text.strip())\n",
    "    # Return as a tuple\n",
    "    return line[0], line[1], line[2]"
   ]
  },
  {
   "cell_type": "markdown",
   "metadata": {},
   "source": [
    "Then, to gather all of the lineups for Jan 7, 2017, I can just run:\n",
    "\n",
    "    "
   ]
  },
  {
   "cell_type": "code",
   "execution_count": 6,
   "metadata": {},
   "outputs": [],
   "source": [
    "AwayTeams, HomeTeams, AwayLineups, HomeLineups = get_lineups(games)\n"
   ]
  },
  {
   "cell_type": "markdown",
   "metadata": {},
   "source": [
    "Let's check the output:"
   ]
  },
  {
   "cell_type": "code",
   "execution_count": 7,
   "metadata": {},
   "outputs": [
    {
     "name": "stdout",
     "output_type": "stream",
     "text": [
      "Game 0\n",
      "Away Team = WPG\n",
      "Lineup:\n",
      "{'L2': ('Patrik Laine', 'Nikolaj Ehlers', 'Mark Scheifele'), 'L3': ('Shawn Matthias', 'Joel Armia', 'Adam Lowry'), 'L4': ('Andrew Copp', 'Nic Petan', 'Drew Stafford'), 'L1': ('Mathieu Perreault', 'Blake Wheeler', 'Bryan Little')}\n",
      "Away Team = WPG\n",
      "Lineup:\n",
      "{'L2': ('Patrik Laine', 'Nikolaj Ehlers', 'Mark Scheifele'), 'L3': ('Shawn Matthias', 'Joel Armia', 'Adam Lowry'), 'L4': ('Andrew Copp', 'Nic Petan', 'Drew Stafford'), 'L1': ('Mathieu Perreault', 'Blake Wheeler', 'Bryan Little')}\n",
      "Game 1\n",
      "Away Team = TBL\n",
      "Lineup:\n",
      "{'L2': ('Alex Killorn', 'Jonathan Drouin', 'Valtteri Filppula'), 'L3': ('Matthew Peca', 'Luke Witkowski', 'Vladislav Namestnikov'), 'L4': ('Ryan Callahan', 'J.T. Brown', 'Cedric Paquette'), 'L1': ('Ondrej Palat', 'Nikita Kucherov', 'Tyler Johnson')}\n",
      "Away Team = TBL\n",
      "Lineup:\n",
      "{'L2': ('Alex Killorn', 'Jonathan Drouin', 'Valtteri Filppula'), 'L3': ('Matthew Peca', 'Luke Witkowski', 'Vladislav Namestnikov'), 'L4': ('Ryan Callahan', 'J.T. Brown', 'Cedric Paquette'), 'L1': ('Ondrej Palat', 'Nikita Kucherov', 'Tyler Johnson')}\n"
     ]
    }
   ],
   "source": [
    "for i in range(2):\n",
    "    print(\"Game {0}\".format(i))\n",
    "    print('Away Team = {0}'.format(AwayTeams[i]))\n",
    "    print('Lineup:')\n",
    "    print(AwayLineups[i])\n",
    "    print('Away Team = {0}'.format(AwayTeams[i]))\n",
    "    print('Lineup:')\n",
    "    print(AwayLineups[i])\n",
    "    "
   ]
  },
  {
   "cell_type": "markdown",
   "metadata": {},
   "source": [
    "-----\n",
    "Looking pretty good!"
   ]
  },
  {
   "cell_type": "markdown",
   "metadata": {},
   "source": [
    "## Scraping ALL the lineups!\n",
    "Here I will generalize the functions, add a new function to help clean up some messy data, and then write a code to download all of the regular season lineups from the 2016-2017 season. \n",
    "\n",
    "I realized that rotogrinders used the abbreviation for the team names, which I though was great! Then, I realized that they messed up the abbreviation of the Montreal Canadians (it should be \"MTL\", but they use \"MON\"). So I have a function ``check_abbrev`` to check the abbreviations.\n",
    "\n",
    "I then generalize the ``get_lineups`` function to a ``get_lineups_date`` function that takes the date and returns the teams and lineups for that date. I also add in a few lines of code to save the html from rotogrinders, if the file doesn't exist. Any reruns will then take significantly less time."
   ]
  },
  {
   "cell_type": "code",
   "execution_count": 8,
   "metadata": {},
   "outputs": [],
   "source": [
    "def check_abbrev(abbrev):\n",
    "    \"\"\"\n",
    "    Check and, if necessary, fix the rotogrinders abbreviations.\n",
    "    \"\"\"\n",
    "    if abbrev == \"MON\":\n",
    "        abbrev = \"MTL\"\n",
    "    return abbrev"
   ]
  },
  {
   "cell_type": "code",
   "execution_count": 9,
   "metadata": {},
   "outputs": [],
   "source": [
    "def get_lineups_date(date):\n",
    "    \"\"\"\n",
    "    Gather all of the lineups for a list of games.\n",
    "    INPUTS:\n",
    "        -) date: a string in the form YYYY-MM-DD\n",
    "    OUTPUTS:\n",
    "        -) AwayTeams: list of the away teams\n",
    "        -) HomeTeams: list of the home teams\n",
    "        -) AwayLineups: list of dicts of the away teams' lineups\n",
    "        -) HomeLineups: list of dicts of the away teams' lineups\n",
    "    \"\"\"\n",
    "    try:\n",
    "        soup = BeautifulSoup(open(\"data/rotogriders_date_{0}.html\".format(date)), \"html.parser\")\n",
    "    except FileNotFoundError:\n",
    "        print(\"Downloading Data...\")\n",
    "        page = requests.get(\"https://rotogrinders.com/lineups/nhl?date={0}&site=fanduel\".format(date))\n",
    "        soup = BeautifulSoup(page.content, 'html.parser')\n",
    "        # Save to file\n",
    "        with open(\"data/rotogriders_date_{0}.html\".format(date), \"w\") as f:\n",
    "            f.write(str(soup))\n",
    "    games = soup.find_all('li',{'data-role':\"lineup-card\"})\n",
    "    Ngames = len(games)\n",
    "    AwayTeams = [0]*Ngames\n",
    "    HomeTeams = [0]*Ngames\n",
    "    AwayLineups = [dict() for x in range(Ngames)]\n",
    "    HomeLineups = [dict() for x in range(Ngames)]\n",
    "    for i in range(Ngames):\n",
    "        AwayTeams[i] = check_abbrev(games[i].attrs[\"data-away\"])\n",
    "        HomeTeams[i] = check_abbrev(games[i].attrs[\"data-home\"])\n",
    "        AR = games[i].find('div',{'class':'blk away-team'})\n",
    "        HR = games[i].find('div',{'class':'blk home-team'})\n",
    "        for l in range(1,5):\n",
    "            AwayLineups[i]['L'+str(l)] = get_line(AR,l)\n",
    "            HomeLineups[i]['L'+str(l)] = get_line(HR,l)\n",
    "    return AwayTeams, HomeTeams, AwayLineups, HomeLineups"
   ]
  },
  {
   "cell_type": "markdown",
   "metadata": {},
   "source": [
    "I also need to make ``get_line`` more robust. For instance, some teams may only dress 11 forwards (and 7 defensemen) if they have an injury leaving 2 players on one line. I will just name an opening in an incomplete line as \"None None.\""
   ]
  },
  {
   "cell_type": "code",
   "execution_count": 10,
   "metadata": {},
   "outputs": [],
   "source": [
    "def get_line(roster_tag,line):\n",
    "    \"\"\"\n",
    "    Gather a single line given the line number and a tag.\n",
    "    INPUTS:\n",
    "        -) roster_tag: tag of the roster for the team\n",
    "        -) line: integer of the line number to grab\n",
    "    OUTPUT:\n",
    "        -) tuple of the names of the players in the line\n",
    "    \"\"\"\n",
    "    line_tags = roster_tag.find(\"h4\",text=\"Line \"+str(line)).parent.find_all('li')\n",
    "    line = []\n",
    "    for lt in line_tags:\n",
    "        try:\n",
    "            line.append(lt.find('a',{'class':'player-popup'}).attrs['title'])\n",
    "        except AttributeError:\n",
    "            # If this player does not have a fantasy score, they built the html differently\n",
    "            line.append(lt.find('span').text.strip())\n",
    "    # Test if line only has 1-2 players\n",
    "    assert len(line) > 0\n",
    "    for i in range(3-len(line)):\n",
    "        line.append(\"None None\")\n",
    "    # Return as a tuple\n",
    "    return line[0], line[1], line[2]"
   ]
  },
  {
   "cell_type": "markdown",
   "metadata": {},
   "source": [
    "Now I just need to gather a list of all of the dates and team names containing NHL games in the 2016-2017 season. \n",
    "\n",
    "This is listed very clearly at https://www.hockey-reference.com/leagues/NHL_2017_games.html, so it is pretty straightforward to scrape it from there."
   ]
  },
  {
   "cell_type": "code",
   "execution_count": 11,
   "metadata": {},
   "outputs": [],
   "source": [
    "page = requests.get(\"https://www.hockey-reference.com/leagues/NHL_2017_games.html\")\n",
    "soup = BeautifulSoup(page.content, 'html.parser')"
   ]
  },
  {
   "cell_type": "code",
   "execution_count": 12,
   "metadata": {},
   "outputs": [],
   "source": [
    "reg_season_tag = soup.find('table',{\"id\":'games'})\n",
    "ind_game_tags = reg_season_tag.find('tbody').find_all('tr')\n",
    "Ngames = len(ind_game_tags)\n",
    "dates     = pd.Series([np.datetime64('2009-01-01')]*Ngames)\n",
    "AwayTeams = np.empty(Ngames,dtype='U3')\n",
    "HomeTeams = np.empty(Ngames,dtype='U3')"
   ]
  },
  {
   "cell_type": "code",
   "execution_count": 13,
   "metadata": {},
   "outputs": [],
   "source": [
    "for i in range(Ngames):\n",
    "    dates[i]     = ind_game_tags[i].find('th',{'data-stat':'date_game'}).find('a').text\n",
    "    AwayTeams[i] = ind_game_tags[i].find('td',{'data-stat':'visitor_team_name'}).attrs['csk'][:3]\n",
    "    HomeTeams[i] = ind_game_tags[i].find('td',{'data-stat':'home_team_name'}).attrs['csk'][:3]"
   ]
  },
  {
   "cell_type": "markdown",
   "metadata": {},
   "source": [
    "Awesome! And lucky me! Their date format matches what I need. Yay! Now, lets get all of the lineups from the 2016-2017 season, and save the date, team names, and lineups to a pandas dataframe.\n",
    "\n",
    "First let's create a data frame with a date and the team names, and empty values for lineups:\n",
    "(Note: While we assume that the lineups on Rotogrinders is correct, their data isnt perfect. For instance, on 2016-12-19 they list a game that didn't happen. To mitigate that, I use the dates and team names from hockey-reference.com as a truth value, and only grab the lineups from rotogrinders)"
   ]
  },
  {
   "cell_type": "code",
   "execution_count": 14,
   "metadata": {},
   "outputs": [],
   "source": [
    "df = pd.DataFrame(dates,columns=[\"Date\"])\n",
    "df[\"Away Team\"] = AwayTeams\n",
    "df[\"Home Team\"] = HomeTeams"
   ]
  },
  {
   "cell_type": "code",
   "execution_count": 15,
   "metadata": {},
   "outputs": [],
   "source": [
    "for loc in (\"A\",\"H\"):\n",
    "    for ln in range(1,5): # Line number\n",
    "        for pn in range(3): # player in line\n",
    "            df['{0}L{1}-{2}'.format(loc,ln,pn)] = ''"
   ]
  },
  {
   "cell_type": "code",
   "execution_count": 16,
   "metadata": {},
   "outputs": [],
   "source": [
    "udates = []\n",
    "dump = [udates.append(i) for i in dates if not udates.count(i)]"
   ]
  },
  {
   "cell_type": "code",
   "execution_count": 17,
   "metadata": {},
   "outputs": [
    {
     "data": {
      "text/html": [
       "<div>\n",
       "<style>\n",
       "    .dataframe thead tr:only-child th {\n",
       "        text-align: right;\n",
       "    }\n",
       "\n",
       "    .dataframe thead th {\n",
       "        text-align: left;\n",
       "    }\n",
       "\n",
       "    .dataframe tbody tr th {\n",
       "        vertical-align: top;\n",
       "    }\n",
       "</style>\n",
       "<table border=\"1\" class=\"dataframe\">\n",
       "  <thead>\n",
       "    <tr style=\"text-align: right;\">\n",
       "      <th></th>\n",
       "      <th>Date</th>\n",
       "      <th>Away Team</th>\n",
       "      <th>Home Team</th>\n",
       "      <th>AL1-0</th>\n",
       "      <th>AL1-1</th>\n",
       "      <th>AL1-2</th>\n",
       "      <th>AL2-0</th>\n",
       "      <th>AL2-1</th>\n",
       "      <th>AL2-2</th>\n",
       "      <th>AL3-0</th>\n",
       "      <th>...</th>\n",
       "      <th>HL1-2</th>\n",
       "      <th>HL2-0</th>\n",
       "      <th>HL2-1</th>\n",
       "      <th>HL2-2</th>\n",
       "      <th>HL3-0</th>\n",
       "      <th>HL3-1</th>\n",
       "      <th>HL3-2</th>\n",
       "      <th>HL4-0</th>\n",
       "      <th>HL4-1</th>\n",
       "      <th>HL4-2</th>\n",
       "    </tr>\n",
       "  </thead>\n",
       "  <tbody>\n",
       "    <tr>\n",
       "      <th>0</th>\n",
       "      <td>2016-10-12</td>\n",
       "      <td>STL</td>\n",
       "      <td>CHI</td>\n",
       "      <td></td>\n",
       "      <td></td>\n",
       "      <td></td>\n",
       "      <td></td>\n",
       "      <td></td>\n",
       "      <td></td>\n",
       "      <td></td>\n",
       "      <td>...</td>\n",
       "      <td></td>\n",
       "      <td></td>\n",
       "      <td></td>\n",
       "      <td></td>\n",
       "      <td></td>\n",
       "      <td></td>\n",
       "      <td></td>\n",
       "      <td></td>\n",
       "      <td></td>\n",
       "      <td></td>\n",
       "    </tr>\n",
       "    <tr>\n",
       "      <th>1</th>\n",
       "      <td>2016-10-12</td>\n",
       "      <td>CGY</td>\n",
       "      <td>EDM</td>\n",
       "      <td></td>\n",
       "      <td></td>\n",
       "      <td></td>\n",
       "      <td></td>\n",
       "      <td></td>\n",
       "      <td></td>\n",
       "      <td></td>\n",
       "      <td>...</td>\n",
       "      <td></td>\n",
       "      <td></td>\n",
       "      <td></td>\n",
       "      <td></td>\n",
       "      <td></td>\n",
       "      <td></td>\n",
       "      <td></td>\n",
       "      <td></td>\n",
       "      <td></td>\n",
       "      <td></td>\n",
       "    </tr>\n",
       "    <tr>\n",
       "      <th>2</th>\n",
       "      <td>2016-10-12</td>\n",
       "      <td>TOR</td>\n",
       "      <td>OTT</td>\n",
       "      <td></td>\n",
       "      <td></td>\n",
       "      <td></td>\n",
       "      <td></td>\n",
       "      <td></td>\n",
       "      <td></td>\n",
       "      <td></td>\n",
       "      <td>...</td>\n",
       "      <td></td>\n",
       "      <td></td>\n",
       "      <td></td>\n",
       "      <td></td>\n",
       "      <td></td>\n",
       "      <td></td>\n",
       "      <td></td>\n",
       "      <td></td>\n",
       "      <td></td>\n",
       "      <td></td>\n",
       "    </tr>\n",
       "    <tr>\n",
       "      <th>3</th>\n",
       "      <td>2016-10-12</td>\n",
       "      <td>LAK</td>\n",
       "      <td>SJS</td>\n",
       "      <td></td>\n",
       "      <td></td>\n",
       "      <td></td>\n",
       "      <td></td>\n",
       "      <td></td>\n",
       "      <td></td>\n",
       "      <td></td>\n",
       "      <td>...</td>\n",
       "      <td></td>\n",
       "      <td></td>\n",
       "      <td></td>\n",
       "      <td></td>\n",
       "      <td></td>\n",
       "      <td></td>\n",
       "      <td></td>\n",
       "      <td></td>\n",
       "      <td></td>\n",
       "      <td></td>\n",
       "    </tr>\n",
       "    <tr>\n",
       "      <th>4</th>\n",
       "      <td>2016-10-13</td>\n",
       "      <td>MTL</td>\n",
       "      <td>BUF</td>\n",
       "      <td></td>\n",
       "      <td></td>\n",
       "      <td></td>\n",
       "      <td></td>\n",
       "      <td></td>\n",
       "      <td></td>\n",
       "      <td></td>\n",
       "      <td>...</td>\n",
       "      <td></td>\n",
       "      <td></td>\n",
       "      <td></td>\n",
       "      <td></td>\n",
       "      <td></td>\n",
       "      <td></td>\n",
       "      <td></td>\n",
       "      <td></td>\n",
       "      <td></td>\n",
       "      <td></td>\n",
       "    </tr>\n",
       "  </tbody>\n",
       "</table>\n",
       "<p>5 rows × 27 columns</p>\n",
       "</div>"
      ],
      "text/plain": [
       "        Date Away Team Home Team AL1-0 AL1-1 AL1-2 AL2-0 AL2-1 AL2-2 AL3-0  \\\n",
       "0 2016-10-12       STL       CHI                                             \n",
       "1 2016-10-12       CGY       EDM                                             \n",
       "2 2016-10-12       TOR       OTT                                             \n",
       "3 2016-10-12       LAK       SJS                                             \n",
       "4 2016-10-13       MTL       BUF                                             \n",
       "\n",
       "   ...  HL1-2 HL2-0 HL2-1 HL2-2 HL3-0 HL3-1 HL3-2 HL4-0 HL4-1 HL4-2  \n",
       "0  ...                                                               \n",
       "1  ...                                                               \n",
       "2  ...                                                               \n",
       "3  ...                                                               \n",
       "4  ...                                                               \n",
       "\n",
       "[5 rows x 27 columns]"
      ]
     },
     "execution_count": 17,
     "metadata": {},
     "output_type": "execute_result"
    }
   ],
   "source": [
    "df.head()"
   ]
  },
  {
   "cell_type": "markdown",
   "metadata": {},
   "source": [
    "Let's do the big scrape! (note: this can take a bit as the html from rotogrinders is somewhat... robust.)"
   ]
  },
  {
   "cell_type": "code",
   "execution_count": 18,
   "metadata": {
    "scrolled": true
   },
   "outputs": [],
   "source": [
    "nloc = 0 # Row to write to\n",
    "nwrite = 0\n",
    "for date in udates:\n",
    "    # print(date)\n",
    "    AwayTeams, HomeTeams, AwayLineups, HomeLineups = get_lineups_date(date)\n",
    "    # Save to Dataframe\n",
    "    Ngames = len(AwayTeams)\n",
    "    for i in range(Ngames):\n",
    "        # Find game in dataframe\n",
    "        nloc = np.where((df['Date'] == date) & \n",
    "                        (df['Away Team'] == AwayTeams[i]) & \n",
    "                        (df['Home Team'] == HomeTeams[i]))\n",
    "        # There are some extra games on rotogrinders that didn't happen\n",
    "        if len(nloc[0]) != 1:\n",
    "            continue\n",
    "        nloc = nloc[0][0]\n",
    "        for loc in (\"A\",\"H\"):\n",
    "            if loc == \"A\":\n",
    "                Lineup = AwayLineups[i]\n",
    "            else:\n",
    "                Lineup = HomeLineups[i]\n",
    "            for ln in range(1,5): \n",
    "                for pn in range(3):\n",
    "                    df['{0}L{1}-{2}'.format(loc,ln,pn)].iat[nloc] = Lineup['L{0}'.format(ln)][pn]\n",
    "        nloc += 1"
   ]
  },
  {
   "cell_type": "markdown",
   "metadata": {},
   "source": [
    "Again let's check the output"
   ]
  },
  {
   "cell_type": "code",
   "execution_count": 19,
   "metadata": {},
   "outputs": [
    {
     "data": {
      "text/html": [
       "<div>\n",
       "<style>\n",
       "    .dataframe thead tr:only-child th {\n",
       "        text-align: right;\n",
       "    }\n",
       "\n",
       "    .dataframe thead th {\n",
       "        text-align: left;\n",
       "    }\n",
       "\n",
       "    .dataframe tbody tr th {\n",
       "        vertical-align: top;\n",
       "    }\n",
       "</style>\n",
       "<table border=\"1\" class=\"dataframe\">\n",
       "  <thead>\n",
       "    <tr style=\"text-align: right;\">\n",
       "      <th></th>\n",
       "      <th>Date</th>\n",
       "      <th>Away Team</th>\n",
       "      <th>Home Team</th>\n",
       "      <th>AL1-0</th>\n",
       "      <th>AL1-1</th>\n",
       "      <th>AL1-2</th>\n",
       "      <th>AL2-0</th>\n",
       "      <th>AL2-1</th>\n",
       "      <th>AL2-2</th>\n",
       "      <th>AL3-0</th>\n",
       "      <th>...</th>\n",
       "      <th>HL1-2</th>\n",
       "      <th>HL2-0</th>\n",
       "      <th>HL2-1</th>\n",
       "      <th>HL2-2</th>\n",
       "      <th>HL3-0</th>\n",
       "      <th>HL3-1</th>\n",
       "      <th>HL3-2</th>\n",
       "      <th>HL4-0</th>\n",
       "      <th>HL4-1</th>\n",
       "      <th>HL4-2</th>\n",
       "    </tr>\n",
       "  </thead>\n",
       "  <tbody>\n",
       "    <tr>\n",
       "      <th>1225</th>\n",
       "      <td>2017-04-09</td>\n",
       "      <td>CAR</td>\n",
       "      <td>PHI</td>\n",
       "      <td>Teuvo Teravainen</td>\n",
       "      <td>Jordan Staal</td>\n",
       "      <td>Sebastian Aho</td>\n",
       "      <td>Sergey Tolchinsky</td>\n",
       "      <td>Joakim Nordstrom</td>\n",
       "      <td>Victor Rask</td>\n",
       "      <td>Elias Lindholm</td>\n",
       "      <td>...</td>\n",
       "      <td>Claude Giroux</td>\n",
       "      <td>Dale Weise</td>\n",
       "      <td>Brayden Schenn</td>\n",
       "      <td>Sean Couturier</td>\n",
       "      <td>Wayne Simmonds</td>\n",
       "      <td>Valtteri Filppula</td>\n",
       "      <td>Jordan Weal</td>\n",
       "      <td>Travis Konecny</td>\n",
       "      <td>Pierre-Edouard Bellemare</td>\n",
       "      <td>Mike Vecchione</td>\n",
       "    </tr>\n",
       "    <tr>\n",
       "      <th>1226</th>\n",
       "      <td>2017-04-09</td>\n",
       "      <td>COL</td>\n",
       "      <td>STL</td>\n",
       "      <td>Rene Bourque</td>\n",
       "      <td>Nathan MacKinnon</td>\n",
       "      <td>Sven Andrighetto</td>\n",
       "      <td>Gabriel Landeskog</td>\n",
       "      <td>Matt Duchene</td>\n",
       "      <td>Tyson Jost</td>\n",
       "      <td>Blake Comeau</td>\n",
       "      <td>...</td>\n",
       "      <td>Jaden Schwartz</td>\n",
       "      <td>Alexander Steen</td>\n",
       "      <td>Patrik Berglund</td>\n",
       "      <td>David Perron</td>\n",
       "      <td>Magnus Paajarvi</td>\n",
       "      <td>Vladimir Sobotka</td>\n",
       "      <td>Jori Lehtera</td>\n",
       "      <td>Ryan Reaves</td>\n",
       "      <td>Dmitrij Jaskin</td>\n",
       "      <td>Zach Sanford</td>\n",
       "    </tr>\n",
       "    <tr>\n",
       "      <th>1227</th>\n",
       "      <td>2017-04-09</td>\n",
       "      <td>BUF</td>\n",
       "      <td>TBL</td>\n",
       "      <td>Evander Kane</td>\n",
       "      <td>Ryan O'Reilly</td>\n",
       "      <td>Brian Gionta</td>\n",
       "      <td>Sam Reinhart</td>\n",
       "      <td>Jack Eichel</td>\n",
       "      <td>Tyler Ennis</td>\n",
       "      <td>Evan Rodrigues</td>\n",
       "      <td>...</td>\n",
       "      <td>Nikita Kucherov</td>\n",
       "      <td>Cory Conacher</td>\n",
       "      <td>Yanni Gourde</td>\n",
       "      <td>Alex Killorn</td>\n",
       "      <td>Luke Witkowski</td>\n",
       "      <td>Jonathan Drouin</td>\n",
       "      <td>Vladislav Namestnikov</td>\n",
       "      <td>Greg McKegg</td>\n",
       "      <td>Gabriel Dumont</td>\n",
       "      <td>J.T. Brown</td>\n",
       "    </tr>\n",
       "    <tr>\n",
       "      <th>1228</th>\n",
       "      <td>2017-04-09</td>\n",
       "      <td>CBJ</td>\n",
       "      <td>TOR</td>\n",
       "      <td>Nick Foligno</td>\n",
       "      <td>Brandon Saad</td>\n",
       "      <td>Oliver Bjorkstrand</td>\n",
       "      <td>Cam Atkinson</td>\n",
       "      <td>Brandon Dubinsky</td>\n",
       "      <td>Boone Jenner</td>\n",
       "      <td>Lauri Korpikoski</td>\n",
       "      <td>...</td>\n",
       "      <td>Nazem Kadri</td>\n",
       "      <td>Mitchell Marner</td>\n",
       "      <td>Tyler Bozak</td>\n",
       "      <td>James van Riemsdyk</td>\n",
       "      <td>Zach Hyman</td>\n",
       "      <td>William Nylander</td>\n",
       "      <td>Auston Matthews</td>\n",
       "      <td>Kasperi Kapanen</td>\n",
       "      <td>Brian Boyle</td>\n",
       "      <td>Matt Martin</td>\n",
       "    </tr>\n",
       "    <tr>\n",
       "      <th>1229</th>\n",
       "      <td>2017-04-09</td>\n",
       "      <td>FLA</td>\n",
       "      <td>WSH</td>\n",
       "      <td>Jaromir Jagr</td>\n",
       "      <td>Jonathan Huberdeau</td>\n",
       "      <td>Vincent Trocheck</td>\n",
       "      <td>Thomas Vanek</td>\n",
       "      <td>Nick Bjugstad</td>\n",
       "      <td>Reilly Smith</td>\n",
       "      <td>Colton Sceviour</td>\n",
       "      <td>...</td>\n",
       "      <td>Nicklas Backstrom</td>\n",
       "      <td>Tom Wilson</td>\n",
       "      <td>Marcus Johansson</td>\n",
       "      <td>Evgeny Kuznetsov</td>\n",
       "      <td>Lars Eller</td>\n",
       "      <td>Paul Carey</td>\n",
       "      <td>Andre Burakovsky</td>\n",
       "      <td>Chandler Stephenson</td>\n",
       "      <td>Garrett Mitchell</td>\n",
       "      <td>Daniel Winnik</td>\n",
       "    </tr>\n",
       "  </tbody>\n",
       "</table>\n",
       "<p>5 rows × 27 columns</p>\n",
       "</div>"
      ],
      "text/plain": [
       "           Date Away Team Home Team             AL1-0               AL1-1  \\\n",
       "1225 2017-04-09       CAR       PHI  Teuvo Teravainen        Jordan Staal   \n",
       "1226 2017-04-09       COL       STL      Rene Bourque    Nathan MacKinnon   \n",
       "1227 2017-04-09       BUF       TBL      Evander Kane       Ryan O'Reilly   \n",
       "1228 2017-04-09       CBJ       TOR      Nick Foligno        Brandon Saad   \n",
       "1229 2017-04-09       FLA       WSH      Jaromir Jagr  Jonathan Huberdeau   \n",
       "\n",
       "                   AL1-2              AL2-0             AL2-1         AL2-2  \\\n",
       "1225       Sebastian Aho  Sergey Tolchinsky  Joakim Nordstrom   Victor Rask   \n",
       "1226    Sven Andrighetto  Gabriel Landeskog      Matt Duchene    Tyson Jost   \n",
       "1227        Brian Gionta       Sam Reinhart       Jack Eichel   Tyler Ennis   \n",
       "1228  Oliver Bjorkstrand       Cam Atkinson  Brandon Dubinsky  Boone Jenner   \n",
       "1229    Vincent Trocheck       Thomas Vanek     Nick Bjugstad  Reilly Smith   \n",
       "\n",
       "                 AL3-0       ...                    HL1-2            HL2-0  \\\n",
       "1225    Elias Lindholm       ...            Claude Giroux       Dale Weise   \n",
       "1226      Blake Comeau       ...           Jaden Schwartz  Alexander Steen   \n",
       "1227    Evan Rodrigues       ...          Nikita Kucherov    Cory Conacher   \n",
       "1228  Lauri Korpikoski       ...              Nazem Kadri  Mitchell Marner   \n",
       "1229   Colton Sceviour       ...        Nicklas Backstrom       Tom Wilson   \n",
       "\n",
       "                 HL2-1               HL2-2            HL3-0  \\\n",
       "1225    Brayden Schenn      Sean Couturier   Wayne Simmonds   \n",
       "1226   Patrik Berglund        David Perron  Magnus Paajarvi   \n",
       "1227      Yanni Gourde        Alex Killorn   Luke Witkowski   \n",
       "1228       Tyler Bozak  James van Riemsdyk       Zach Hyman   \n",
       "1229  Marcus Johansson    Evgeny Kuznetsov       Lars Eller   \n",
       "\n",
       "                  HL3-1                  HL3-2                HL4-0  \\\n",
       "1225  Valtteri Filppula            Jordan Weal       Travis Konecny   \n",
       "1226   Vladimir Sobotka           Jori Lehtera          Ryan Reaves   \n",
       "1227    Jonathan Drouin  Vladislav Namestnikov          Greg McKegg   \n",
       "1228   William Nylander        Auston Matthews      Kasperi Kapanen   \n",
       "1229         Paul Carey       Andre Burakovsky  Chandler Stephenson   \n",
       "\n",
       "                         HL4-1           HL4-2  \n",
       "1225  Pierre-Edouard Bellemare  Mike Vecchione  \n",
       "1226            Dmitrij Jaskin    Zach Sanford  \n",
       "1227            Gabriel Dumont      J.T. Brown  \n",
       "1228               Brian Boyle     Matt Martin  \n",
       "1229          Garrett Mitchell   Daniel Winnik  \n",
       "\n",
       "[5 rows x 27 columns]"
      ]
     },
     "execution_count": 19,
     "metadata": {},
     "output_type": "execute_result"
    }
   ],
   "source": [
    "df.tail()"
   ]
  },
  {
   "cell_type": "markdown",
   "metadata": {},
   "source": [
    "And let's make sure we found lineups for all of the games. Are any ``AL1-0`` positions empty?"
   ]
  },
  {
   "cell_type": "code",
   "execution_count": 20,
   "metadata": {},
   "outputs": [
    {
     "name": "stdout",
     "output_type": "stream",
     "text": [
      "False\n"
     ]
    }
   ],
   "source": [
    "print((df['AL1-1'] == '').any())"
   ]
  },
  {
   "cell_type": "markdown",
   "metadata": {},
   "source": [
    "Now, let's save the pandas dataframe.\n"
   ]
  },
  {
   "cell_type": "code",
   "execution_count": 21,
   "metadata": {},
   "outputs": [],
   "source": [
    "df.to_pickle(\"data/Lineups.pkl\")"
   ]
  },
  {
   "cell_type": "code",
   "execution_count": null,
   "metadata": {},
   "outputs": [],
   "source": []
  },
  {
   "cell_type": "code",
   "execution_count": null,
   "metadata": {},
   "outputs": [],
   "source": []
  }
 ],
 "metadata": {
  "kernelspec": {
   "display_name": "Python 3",
   "language": "python",
   "name": "python3"
  },
  "language_info": {
   "codemirror_mode": {
    "name": "ipython",
    "version": 3
   },
   "file_extension": ".py",
   "mimetype": "text/x-python",
   "name": "python",
   "nbconvert_exporter": "python",
   "pygments_lexer": "ipython3",
   "version": "3.5.2"
  }
 },
 "nbformat": 4,
 "nbformat_minor": 2
}
